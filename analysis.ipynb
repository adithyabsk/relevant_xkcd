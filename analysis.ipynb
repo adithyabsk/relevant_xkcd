{
 "cells": [
  {
   "cell_type": "code",
   "execution_count": 1,
   "metadata": {
    "collapsed": true
   },
   "outputs": [],
   "source": [
    "# Imports\n",
    "import re\n",
    "import string\n",
    "\n",
    "import numpy as np\n",
    "import pandas as pd\n",
    "from yarl import URL\n",
    "from sklearn.feature_extraction.text import TfidfVectorizer\n",
    "from sklearn.metrics.pairwise import cosine_similarity\n",
    "from sklearn.feature_extraction.text import CountVectorizer\n",
    "from sklearn.pipeline import Pipeline\n",
    "from markdown import markdown\n",
    "from bs4 import BeautifulSoup\n",
    "\n",
    "import scipy.sparse as sp\n",
    "from sklearn.base import BaseEstimator, TransformerMixin, clone\n",
    "from sklearn.utils.validation import check_is_fitted\n",
    "from sklearn.feature_extraction.text import _document_frequency\n",
    "\n",
    "from dask_ml.model_selection import train_test_split\n",
    "from dask_ml.xgboost import XGBClassifier\n",
    "import nltk\n",
    "\n",
    "import dask as d\n",
    "import dask.dataframe as dd\n",
    "from dask.distributed import Client\n",
    "\n",
    "from markdown import Markdown\n",
    "from io import StringIO\n",
    "\n",
    "np.random.seed(10)"
   ]
  },
  {
   "cell_type": "code",
   "execution_count": 2,
   "outputs": [
    {
     "name": "stderr",
     "output_type": "stream",
     "text": [
      "[nltk_data] Downloading package stopwords to\n",
      "[nltk_data]     /Users/adithyabalaji/nltk_data...\n",
      "[nltk_data]   Package stopwords is already up-to-date!\n"
     ]
    }
   ],
   "source": [
    "nltk.download('stopwords')\n",
    "from nltk.corpus import stopwords"
   ],
   "metadata": {
    "collapsed": false,
    "pycharm": {
     "name": "#%%\n"
    }
   }
  },
  {
   "cell_type": "code",
   "execution_count": 4,
   "outputs": [],
   "source": [
    "client = Client()"
   ],
   "metadata": {
    "collapsed": false,
    "pycharm": {
     "name": "#%%\n"
    }
   }
  },
  {
   "cell_type": "markdown",
   "source": [
    "[Dask Dashboard](localhost:8787)"
   ],
   "metadata": {
    "collapsed": false,
    "pycharm": {
     "name": "#%% md\n"
    }
   }
  },
  {
   "cell_type": "markdown",
   "source": [
    "# Load / Clean Data\n",
    "\n",
    "## xkcd dataset\n",
    "\n",
    "First we load in the xkcd dataset from https://www.explainxkcd.com\n",
    "\n",
    "This dataset has 2388 xkcd comics run on (22 November 2020)\n",
    "\n",
    "Each row has the following features:\n",
    "\n",
    "* **xkcd**: The link to the official xkcd comic URL\n",
    "* **xkcd_num**: The extracted comic number from the URL\n",
    "* **Title**: The link to the Explain XKCD wiki page for that comic\n",
    "* **Image**: Link to a backup hosted image of the XKCD comic\n",
    "* **Date**: The original date of publication of the comic\n",
    "* **TitleText**: Title of the comic\n",
    "* **Explanation**: A community explanation of the comic deciphering the sometimes pithy\n",
    "or cryptic humor\n",
    "* **Transcript**: If the comic has characters speaking, this section has the text of the\n",
    "comic."
   ],
   "metadata": {
    "collapsed": false,
    "pycharm": {
     "name": "#%% md\n"
    }
   }
  },
  {
   "cell_type": "code",
   "execution_count": 5,
   "outputs": [
    {
     "name": "stdout",
     "output_type": "stream",
     "text": [
      "Index(['Title', 'xkcd', 'Image', 'Date', 'TitleText', 'Explanation',\n",
      "       'Transcript', 'xkcd_num'],\n",
      "      dtype='object')\n"
     ]
    }
   ],
   "source": [
    "# Process explain xkcd data\n",
    "links_df = dd.read_parquet(\"./data/xkcd/links_df.parquet\") # .set_index(\"Title\")\n",
    "# There is a bug in the data collection which is caused by this surprise:\n",
    "# https://www.explainxkcd.com/wiki/index.php/Disappearing_Sunday_Update\n",
    "# its a comic with the same id which he speculates will break automated system. Sure\n",
    "# broke mine!\n",
    "links_df = links_df[links_df[\"TitleText\"] != \"Disappearing Sunday Update\"].set_index(\"Title\")\n",
    "pages_df = dd.read_parquet(\"./data/xkcd/pages_df.parquet\", blocksize=None) # .set_index(\"Title\")\n",
    "pages_df = pages_df.drop_duplicates()\n",
    "xkcd_df = dd.merge(links_df, pages_df, how='left', on=\"Title\")\n",
    "xkcd_df[\"xkcd_num\"] = xkcd_df[\"xkcd\"].apply(\n",
    "    lambda url: int(URL(url).path.replace(\"/\", \"\")), meta='str'\n",
    ")\n",
    "print(xkcd_df.columns)\n",
    "CURR_MAX_COMIC = xkcd_df[\"xkcd_num\"].max().compute()"
   ],
   "metadata": {
    "collapsed": false,
    "pycharm": {
     "name": "#%%\n"
    }
   }
  },
  {
   "cell_type": "code",
   "execution_count": 6,
   "outputs": [
    {
     "data": {
      "text/plain": "                                             Title                   xkcd  \\\n0     https://www.explainxkcd.com/wiki/index.php/1     https://xkcd.com/1   \n1    https://www.explainxkcd.com/wiki/index.php/10    https://xkcd.com/10   \n2   https://www.explainxkcd.com/wiki/index.php/100   https://xkcd.com/100   \n3  https://www.explainxkcd.com/wiki/index.php/1000  https://xkcd.com/1000   \n4  https://www.explainxkcd.com/wiki/index.php/1001  https://xkcd.com/1001   \n\n                                               Image        Date  \\\n0  https://www.explainxkcd.com/wiki/index.php/Fil...  2005-09-30   \n1  https://www.explainxkcd.com/wiki/index.php/Fil...  2005-09-30   \n2  https://www.explainxkcd.com/wiki/index.php/Fil...  2006-05-10   \n3  https://www.explainxkcd.com/wiki/index.php/Fil...  2012-01-06   \n4  https://www.explainxkcd.com/wiki/index.php/Fil...  2012-01-09   \n\n         TitleText                                        Explanation  \\\n0  Barrel - Part 1  The comic shows a young boy floating in a barr...   \n1        Pi Equals  There are two possible references here. One is...   \n2    Family Circus  The Family Circus is a comic characterized by ...   \n3      1000 Comics  This comic is the 1000th comic shown on xkcd c...   \n4           AAAAAA  Megan and Cueball get the idea to build a rota...   \n\n                                          Transcript  xkcd_num  \n0  [A boy sits in a barrel which is floating in a...         1  \n1  [A huge π to the left, then a large equal-to s...        10  \n2  [Picture shows a pathway winding through trees...       100  \n3  [1000 characters, numerous of which have appea...      1000  \n4  [Cueball clinging onto bed sheets while being ...      1001  ",
      "text/html": "<div>\n<style scoped>\n    .dataframe tbody tr th:only-of-type {\n        vertical-align: middle;\n    }\n\n    .dataframe tbody tr th {\n        vertical-align: top;\n    }\n\n    .dataframe thead th {\n        text-align: right;\n    }\n</style>\n<table border=\"1\" class=\"dataframe\">\n  <thead>\n    <tr style=\"text-align: right;\">\n      <th></th>\n      <th>Title</th>\n      <th>xkcd</th>\n      <th>Image</th>\n      <th>Date</th>\n      <th>TitleText</th>\n      <th>Explanation</th>\n      <th>Transcript</th>\n      <th>xkcd_num</th>\n    </tr>\n  </thead>\n  <tbody>\n    <tr>\n      <th>0</th>\n      <td>https://www.explainxkcd.com/wiki/index.php/1</td>\n      <td>https://xkcd.com/1</td>\n      <td>https://www.explainxkcd.com/wiki/index.php/Fil...</td>\n      <td>2005-09-30</td>\n      <td>Barrel - Part 1</td>\n      <td>The comic shows a young boy floating in a barr...</td>\n      <td>[A boy sits in a barrel which is floating in a...</td>\n      <td>1</td>\n    </tr>\n    <tr>\n      <th>1</th>\n      <td>https://www.explainxkcd.com/wiki/index.php/10</td>\n      <td>https://xkcd.com/10</td>\n      <td>https://www.explainxkcd.com/wiki/index.php/Fil...</td>\n      <td>2005-09-30</td>\n      <td>Pi Equals</td>\n      <td>There are two possible references here. One is...</td>\n      <td>[A huge π to the left, then a large equal-to s...</td>\n      <td>10</td>\n    </tr>\n    <tr>\n      <th>2</th>\n      <td>https://www.explainxkcd.com/wiki/index.php/100</td>\n      <td>https://xkcd.com/100</td>\n      <td>https://www.explainxkcd.com/wiki/index.php/Fil...</td>\n      <td>2006-05-10</td>\n      <td>Family Circus</td>\n      <td>The Family Circus is a comic characterized by ...</td>\n      <td>[Picture shows a pathway winding through trees...</td>\n      <td>100</td>\n    </tr>\n    <tr>\n      <th>3</th>\n      <td>https://www.explainxkcd.com/wiki/index.php/1000</td>\n      <td>https://xkcd.com/1000</td>\n      <td>https://www.explainxkcd.com/wiki/index.php/Fil...</td>\n      <td>2012-01-06</td>\n      <td>1000 Comics</td>\n      <td>This comic is the 1000th comic shown on xkcd c...</td>\n      <td>[1000 characters, numerous of which have appea...</td>\n      <td>1000</td>\n    </tr>\n    <tr>\n      <th>4</th>\n      <td>https://www.explainxkcd.com/wiki/index.php/1001</td>\n      <td>https://xkcd.com/1001</td>\n      <td>https://www.explainxkcd.com/wiki/index.php/Fil...</td>\n      <td>2012-01-09</td>\n      <td>AAAAAA</td>\n      <td>Megan and Cueball get the idea to build a rota...</td>\n      <td>[Cueball clinging onto bed sheets while being ...</td>\n      <td>1001</td>\n    </tr>\n  </tbody>\n</table>\n</div>"
     },
     "execution_count": 6,
     "metadata": {},
     "output_type": "execute_result"
    }
   ],
   "source": [
    "xkcd_df.head()"
   ],
   "metadata": {
    "collapsed": false,
    "pycharm": {
     "name": "#%%\n"
    }
   }
  },
  {
   "cell_type": "markdown",
   "source": [
    "## reddit dataset\n",
    "\n",
    "Next we load in the reddit dataset which is a collection of every reference of an xkcd\n",
    "url on Reddit.\n",
    "\n",
    "This dataset has 313485 samples and 9 features. The comments are collected from 2007 to\n",
    "2019, inclusive.\n",
    "\n",
    "Each sample has the following features:\n",
    "\n",
    "* **body**: The text in the comment body (should have an xkcd url)\n",
    "* **author**: The reddit user's name\n",
    "* **score**: The comment's score (should be >= 1)\n",
    "* **permalink**: The permalink to the comment\n",
    "* **parent_***: The previous four attributes for the child comment's parent.\n",
    "* **xkcd**: The xkcd comic url extracted from the child comment\n",
    "* **xkcd_num**: The comic number extracted from the URL"
   ],
   "metadata": {
    "collapsed": false,
    "pycharm": {
     "name": "#%% md\n"
    }
   }
  },
  {
   "cell_type": "code",
   "execution_count": 7,
   "outputs": [
    {
     "name": "stdout",
     "output_type": "stream",
     "text": [
      "Index(['body', 'author', 'score', 'permalink', 'xkcd', 'parent_body',\n",
      "       'parent_author', 'parent_score', 'parent_permalink'],\n",
      "      dtype='object')\n",
      "CPU times: user 657 ms, sys: 41.5 ms, total: 699 ms\n",
      "Wall time: 722 ms\n"
     ]
    }
   ],
   "source": [
    "%%time\n",
    "\n",
    "# Process reddit data\n",
    "file_names =  [\n",
    "    *list(map(str, range(2007, 2015))),\n",
    "    *[f\"{year}_{month:02d}\" for year in range(2015, 2020) for month in range(1, 13)]\n",
    "]\n",
    "reddit_dfs = [\n",
    "    dd.read_parquet(f\"./data/reddit/{file_name}.parquet\")\n",
    "    for file_name in file_names\n",
    "]\n",
    "reddit_df = dd.concat(reddit_dfs, ignore_index=True)\n",
    "print(reddit_df.columns)"
   ],
   "metadata": {
    "collapsed": false,
    "pycharm": {
     "name": "#%%\n"
    }
   }
  },
  {
   "cell_type": "code",
   "execution_count": 8,
   "outputs": [
    {
     "data": {
      "text/plain": "                                                   body             author  \\\n2719  \"The recommended amount of wolves inside someo...     TheMelonBandit   \n2720                               https://xkcd.com/37/          Agent-008   \n2721  [The sword is traditionally carried on the lef...  lesser_panjandrum   \n2722            [this is the one](https://xkcd.com/37/)      Allfather2002   \n2723            [Relevant xkcd](https://xkcd.com/2205/)            xkcloud   \n\n      score                                          permalink  \\\n2719     38  http://reddit.com/r/notliketheothergirls/comme...   \n2720     38  http://reddit.com/r/IncreasinglyVerbose/commen...   \n2721     38  http://reddit.com/r/TrollXChromosomes/comments...   \n2722     38  http://reddit.com/r/Damnthatsinteresting/comme...   \n2723     38  http://reddit.com/r/NoStupidQuestions/comments...   \n\n                        xkcd  \\\n2719  https://xkcd.com/1471/   \n2720    https://xkcd.com/37/   \n2721  https://xkcd.com/1403/   \n2722    https://xkcd.com/37/   \n2723  https://xkcd.com/2205/   \n\n                                            parent_body        parent_author  \\\n2719  INSIDE YOU THERE ARE TWO WOLVES. THE RECOMMEND...  DungeonCrawlingFool   \n2720                     Samsung makes weird ass emojis        DarkBlade1212   \n2721   Come again?\\n\\nI may be inclined to get a PhD...          Pufflehuffy   \n2722                           Something something xkcd              TobyM02   \n2723  It's called an order of magnitude calculation....          jansencheng   \n\n      parent_score                                   parent_permalink  \n2719           730  http://reddit.com/r/notliketheothergirls/comme...  \n2720           102  http://reddit.com/r/IncreasinglyVerbose/commen...  \n2721            11  http://reddit.com/r/TrollXChromosomes/comments...  \n2722            47  http://reddit.com/r/Damnthatsinteresting/comme...  \n2723            75  http://reddit.com/r/NoStupidQuestions/comments...  ",
      "text/html": "<div>\n<style scoped>\n    .dataframe tbody tr th:only-of-type {\n        vertical-align: middle;\n    }\n\n    .dataframe tbody tr th {\n        vertical-align: top;\n    }\n\n    .dataframe thead th {\n        text-align: right;\n    }\n</style>\n<table border=\"1\" class=\"dataframe\">\n  <thead>\n    <tr style=\"text-align: right;\">\n      <th></th>\n      <th>body</th>\n      <th>author</th>\n      <th>score</th>\n      <th>permalink</th>\n      <th>xkcd</th>\n      <th>parent_body</th>\n      <th>parent_author</th>\n      <th>parent_score</th>\n      <th>parent_permalink</th>\n    </tr>\n  </thead>\n  <tbody>\n    <tr>\n      <th>2719</th>\n      <td>\"The recommended amount of wolves inside someo...</td>\n      <td>TheMelonBandit</td>\n      <td>38</td>\n      <td>http://reddit.com/r/notliketheothergirls/comme...</td>\n      <td>https://xkcd.com/1471/</td>\n      <td>INSIDE YOU THERE ARE TWO WOLVES. THE RECOMMEND...</td>\n      <td>DungeonCrawlingFool</td>\n      <td>730</td>\n      <td>http://reddit.com/r/notliketheothergirls/comme...</td>\n    </tr>\n    <tr>\n      <th>2720</th>\n      <td>https://xkcd.com/37/</td>\n      <td>Agent-008</td>\n      <td>38</td>\n      <td>http://reddit.com/r/IncreasinglyVerbose/commen...</td>\n      <td>https://xkcd.com/37/</td>\n      <td>Samsung makes weird ass emojis</td>\n      <td>DarkBlade1212</td>\n      <td>102</td>\n      <td>http://reddit.com/r/IncreasinglyVerbose/commen...</td>\n    </tr>\n    <tr>\n      <th>2721</th>\n      <td>[The sword is traditionally carried on the lef...</td>\n      <td>lesser_panjandrum</td>\n      <td>38</td>\n      <td>http://reddit.com/r/TrollXChromosomes/comments...</td>\n      <td>https://xkcd.com/1403/</td>\n      <td>Come again?\\n\\nI may be inclined to get a PhD...</td>\n      <td>Pufflehuffy</td>\n      <td>11</td>\n      <td>http://reddit.com/r/TrollXChromosomes/comments...</td>\n    </tr>\n    <tr>\n      <th>2722</th>\n      <td>[this is the one](https://xkcd.com/37/)</td>\n      <td>Allfather2002</td>\n      <td>38</td>\n      <td>http://reddit.com/r/Damnthatsinteresting/comme...</td>\n      <td>https://xkcd.com/37/</td>\n      <td>Something something xkcd</td>\n      <td>TobyM02</td>\n      <td>47</td>\n      <td>http://reddit.com/r/Damnthatsinteresting/comme...</td>\n    </tr>\n    <tr>\n      <th>2723</th>\n      <td>[Relevant xkcd](https://xkcd.com/2205/)</td>\n      <td>xkcloud</td>\n      <td>38</td>\n      <td>http://reddit.com/r/NoStupidQuestions/comments...</td>\n      <td>https://xkcd.com/2205/</td>\n      <td>It's called an order of magnitude calculation....</td>\n      <td>jansencheng</td>\n      <td>75</td>\n      <td>http://reddit.com/r/NoStupidQuestions/comments...</td>\n    </tr>\n  </tbody>\n</table>\n</div>"
     },
     "execution_count": 8,
     "metadata": {},
     "output_type": "execute_result"
    }
   ],
   "source": [
    "reddit_df.tail()"
   ],
   "metadata": {
    "collapsed": false,
    "pycharm": {
     "name": "#%%\n"
    }
   }
  },
  {
   "cell_type": "code",
   "execution_count": 9,
   "outputs": [
    {
     "name": "stdout",
     "output_type": "stream",
     "text": [
      "CPU times: user 8.79 s, sys: 1.3 s, total: 10.1 s\n",
      "Wall time: 1min 19s\n"
     ]
    },
    {
     "data": {
      "text/plain": "                                                   body               author  \\\n0     Or maybe it's because we're so fucking tired o...         schizobullet   \n1     Obligatory Snopes comic.\\r\\n\\r\\nhttp://xkcd.co...                 paro   \n2     &gt; Well I would hope that some of the women ...            MarkByers   \n3                                   http://xkcd.com/75/               morner   \n5                     [ObGarfield](http://xkcd.com/78/)  RichardPeterJohnson   \n...                                                 ...                  ...   \n2718                              https://xkcd.com/767/           azephrahel   \n2719  \"The recommended amount of wolves inside someo...       TheMelonBandit   \n2720                               https://xkcd.com/37/            Agent-008   \n2721  [The sword is traditionally carried on the lef...    lesser_panjandrum   \n2723            [Relevant xkcd](https://xkcd.com/2205/)              xkcloud   \n\n      score                                          permalink  \\\n0         7  http://reddit.com/r/reddit.com/comments/5zioz/...   \n1        17  http://reddit.com/r/reddit.com/comments/2qnru/...   \n2        13  http://reddit.com/r/reddit.com/comments/2yl1s/...   \n3        12  http://reddit.com/r/reddit.com/comments/2ogwe/...   \n5        17  http://reddit.com/r/reddit.com/comments/2yikf/...   \n...     ...                                                ...   \n2718     38  http://reddit.com/r/todayilearned/comments/egn...   \n2719     38  http://reddit.com/r/notliketheothergirls/comme...   \n2720     38  http://reddit.com/r/IncreasinglyVerbose/commen...   \n2721     38  http://reddit.com/r/TrollXChromosomes/comments...   \n2723     38  http://reddit.com/r/NoStupidQuestions/comments...   \n\n                       xkcd  \\\n0       https://xkcd.com/16   \n1      https://xkcd.com/250   \n2      https://xkcd.com/322   \n3       https://xkcd.com/75   \n5       https://xkcd.com/78   \n...                     ...   \n2718   https://xkcd.com/767   \n2719  https://xkcd.com/1471   \n2720    https://xkcd.com/37   \n2721  https://xkcd.com/1403   \n2723  https://xkcd.com/2205   \n\n                                            parent_body        parent_author  \\\n0     Youngsters didn't see Python's Holy Grail... h...            multubunu   \n1     Emphasis on the unbelievable. \\nNo author, no ...           reddit_doe   \n2     Well I would hope that some of the women here ...            feanor512   \n3            Bloody fuckin' hell? :)\\nCan I mix curses?                 Figs   \n5     Thanks.  You know- I never had this problem wh...          christianjb   \n...                                                 ...                  ...   \n2718  I'm worried for the day a scandal finally come...           Radidactyl   \n2719  INSIDE YOU THERE ARE TWO WOLVES. THE RECOMMEND...  DungeonCrawlingFool   \n2720                     Samsung makes weird ass emojis        DarkBlade1212   \n2721     Come again?\\nI may be inclined to get a PhD...          Pufflehuffy   \n2723  It's called an order of magnitude calculation....          jansencheng   \n\n      parent_score                                   parent_permalink  \\\n0               10  http://reddit.com/r/reddit.com/comments/5zioz/...   \n1               52  http://reddit.com/r/reddit.com/comments/2qnru/...   \n2               78  http://reddit.com/r/reddit.com/comments/2yl1s/...   \n3                7  http://reddit.com/r/reddit.com/comments/2ogwe/...   \n5               88  http://reddit.com/r/reddit.com/comments/2yikf/...   \n...            ...                                                ...   \n2718            45  http://reddit.com/r/todayilearned/comments/egn...   \n2719           730  http://reddit.com/r/notliketheothergirls/comme...   \n2720           102  http://reddit.com/r/IncreasinglyVerbose/commen...   \n2721            11  http://reddit.com/r/TrollXChromosomes/comments...   \n2723            75  http://reddit.com/r/NoStupidQuestions/comments...   \n\n              xkcd_url_type  xkcd_num  \n0       https://xkcd.com/16        16  \n1      https://xkcd.com/250       250  \n2      https://xkcd.com/322       322  \n3       https://xkcd.com/75        75  \n5       https://xkcd.com/78        78  \n...                     ...       ...  \n2718   https://xkcd.com/767       767  \n2719  https://xkcd.com/1471      1471  \n2720    https://xkcd.com/37        37  \n2721  https://xkcd.com/1403      1403  \n2723  https://xkcd.com/2205      2205  \n\n[266249 rows x 11 columns]",
      "text/html": "<div>\n<style scoped>\n    .dataframe tbody tr th:only-of-type {\n        vertical-align: middle;\n    }\n\n    .dataframe tbody tr th {\n        vertical-align: top;\n    }\n\n    .dataframe thead th {\n        text-align: right;\n    }\n</style>\n<table border=\"1\" class=\"dataframe\">\n  <thead>\n    <tr style=\"text-align: right;\">\n      <th></th>\n      <th>body</th>\n      <th>author</th>\n      <th>score</th>\n      <th>permalink</th>\n      <th>xkcd</th>\n      <th>parent_body</th>\n      <th>parent_author</th>\n      <th>parent_score</th>\n      <th>parent_permalink</th>\n      <th>xkcd_url_type</th>\n      <th>xkcd_num</th>\n    </tr>\n  </thead>\n  <tbody>\n    <tr>\n      <th>0</th>\n      <td>Or maybe it's because we're so fucking tired o...</td>\n      <td>schizobullet</td>\n      <td>7</td>\n      <td>http://reddit.com/r/reddit.com/comments/5zioz/...</td>\n      <td>https://xkcd.com/16</td>\n      <td>Youngsters didn't see Python's Holy Grail... h...</td>\n      <td>multubunu</td>\n      <td>10</td>\n      <td>http://reddit.com/r/reddit.com/comments/5zioz/...</td>\n      <td>https://xkcd.com/16</td>\n      <td>16</td>\n    </tr>\n    <tr>\n      <th>1</th>\n      <td>Obligatory Snopes comic.\\r\\n\\r\\nhttp://xkcd.co...</td>\n      <td>paro</td>\n      <td>17</td>\n      <td>http://reddit.com/r/reddit.com/comments/2qnru/...</td>\n      <td>https://xkcd.com/250</td>\n      <td>Emphasis on the unbelievable. \\nNo author, no ...</td>\n      <td>reddit_doe</td>\n      <td>52</td>\n      <td>http://reddit.com/r/reddit.com/comments/2qnru/...</td>\n      <td>https://xkcd.com/250</td>\n      <td>250</td>\n    </tr>\n    <tr>\n      <th>2</th>\n      <td>&amp;gt; Well I would hope that some of the women ...</td>\n      <td>MarkByers</td>\n      <td>13</td>\n      <td>http://reddit.com/r/reddit.com/comments/2yl1s/...</td>\n      <td>https://xkcd.com/322</td>\n      <td>Well I would hope that some of the women here ...</td>\n      <td>feanor512</td>\n      <td>78</td>\n      <td>http://reddit.com/r/reddit.com/comments/2yl1s/...</td>\n      <td>https://xkcd.com/322</td>\n      <td>322</td>\n    </tr>\n    <tr>\n      <th>3</th>\n      <td>http://xkcd.com/75/</td>\n      <td>morner</td>\n      <td>12</td>\n      <td>http://reddit.com/r/reddit.com/comments/2ogwe/...</td>\n      <td>https://xkcd.com/75</td>\n      <td>Bloody fuckin' hell? :)\\nCan I mix curses?</td>\n      <td>Figs</td>\n      <td>7</td>\n      <td>http://reddit.com/r/reddit.com/comments/2ogwe/...</td>\n      <td>https://xkcd.com/75</td>\n      <td>75</td>\n    </tr>\n    <tr>\n      <th>5</th>\n      <td>[ObGarfield](http://xkcd.com/78/)</td>\n      <td>RichardPeterJohnson</td>\n      <td>17</td>\n      <td>http://reddit.com/r/reddit.com/comments/2yikf/...</td>\n      <td>https://xkcd.com/78</td>\n      <td>Thanks.  You know- I never had this problem wh...</td>\n      <td>christianjb</td>\n      <td>88</td>\n      <td>http://reddit.com/r/reddit.com/comments/2yikf/...</td>\n      <td>https://xkcd.com/78</td>\n      <td>78</td>\n    </tr>\n    <tr>\n      <th>...</th>\n      <td>...</td>\n      <td>...</td>\n      <td>...</td>\n      <td>...</td>\n      <td>...</td>\n      <td>...</td>\n      <td>...</td>\n      <td>...</td>\n      <td>...</td>\n      <td>...</td>\n      <td>...</td>\n    </tr>\n    <tr>\n      <th>2718</th>\n      <td>https://xkcd.com/767/</td>\n      <td>azephrahel</td>\n      <td>38</td>\n      <td>http://reddit.com/r/todayilearned/comments/egn...</td>\n      <td>https://xkcd.com/767</td>\n      <td>I'm worried for the day a scandal finally come...</td>\n      <td>Radidactyl</td>\n      <td>45</td>\n      <td>http://reddit.com/r/todayilearned/comments/egn...</td>\n      <td>https://xkcd.com/767</td>\n      <td>767</td>\n    </tr>\n    <tr>\n      <th>2719</th>\n      <td>\"The recommended amount of wolves inside someo...</td>\n      <td>TheMelonBandit</td>\n      <td>38</td>\n      <td>http://reddit.com/r/notliketheothergirls/comme...</td>\n      <td>https://xkcd.com/1471</td>\n      <td>INSIDE YOU THERE ARE TWO WOLVES. THE RECOMMEND...</td>\n      <td>DungeonCrawlingFool</td>\n      <td>730</td>\n      <td>http://reddit.com/r/notliketheothergirls/comme...</td>\n      <td>https://xkcd.com/1471</td>\n      <td>1471</td>\n    </tr>\n    <tr>\n      <th>2720</th>\n      <td>https://xkcd.com/37/</td>\n      <td>Agent-008</td>\n      <td>38</td>\n      <td>http://reddit.com/r/IncreasinglyVerbose/commen...</td>\n      <td>https://xkcd.com/37</td>\n      <td>Samsung makes weird ass emojis</td>\n      <td>DarkBlade1212</td>\n      <td>102</td>\n      <td>http://reddit.com/r/IncreasinglyVerbose/commen...</td>\n      <td>https://xkcd.com/37</td>\n      <td>37</td>\n    </tr>\n    <tr>\n      <th>2721</th>\n      <td>[The sword is traditionally carried on the lef...</td>\n      <td>lesser_panjandrum</td>\n      <td>38</td>\n      <td>http://reddit.com/r/TrollXChromosomes/comments...</td>\n      <td>https://xkcd.com/1403</td>\n      <td>Come again?\\nI may be inclined to get a PhD...</td>\n      <td>Pufflehuffy</td>\n      <td>11</td>\n      <td>http://reddit.com/r/TrollXChromosomes/comments...</td>\n      <td>https://xkcd.com/1403</td>\n      <td>1403</td>\n    </tr>\n    <tr>\n      <th>2723</th>\n      <td>[Relevant xkcd](https://xkcd.com/2205/)</td>\n      <td>xkcloud</td>\n      <td>38</td>\n      <td>http://reddit.com/r/NoStupidQuestions/comments...</td>\n      <td>https://xkcd.com/2205</td>\n      <td>It's called an order of magnitude calculation....</td>\n      <td>jansencheng</td>\n      <td>75</td>\n      <td>http://reddit.com/r/NoStupidQuestions/comments...</td>\n      <td>https://xkcd.com/2205</td>\n      <td>2205</td>\n    </tr>\n  </tbody>\n</table>\n<p>266249 rows × 11 columns</p>\n</div>"
     },
     "execution_count": 9,
     "metadata": {},
     "output_type": "execute_result"
    }
   ],
   "source": [
    "%%time\n",
    "\n",
    "# Clean up reddit_df\n",
    "\n",
    "# remove null rows in important columns\n",
    "reddit_df = reddit_df[~(\n",
    "        reddit_df[\"xkcd\"].isnull()\n",
    "        | reddit_df[\"parent_body\"].isnull()\n",
    "        | reddit_df[\"body\"].isnull()\n",
    ")]\n",
    "\n",
    "# # Cannot remove individual rows in dask\n",
    "# # remove malformed row\n",
    "# reddit_df = reddit_df.drop(labels=[52737], axis=1)\n",
    "\n",
    "# Clean up multiple versions of URL to singular version\n",
    "# (i.e. m.xkcd, ending with slash, without slash, etc...)\n",
    "reddit_df[\"xkcd\"] = reddit_df[\"xkcd\"].apply(\n",
    "    lambda url: \"https://xkcd.com/\" + URL(url).path.replace(\"/\", \"\"), meta=str\n",
    ")\n",
    "# Drop invalid comic numbers\n",
    "# the convert_dtype=False is required here because some annoying people used invalid URLs\n",
    "# with really large numbers\n",
    "reddit_df[\"xkcd_url_type\"] = reddit_df[\"xkcd\"].apply(lambda url: URL(url), meta=URL)\n",
    "\n",
    "def convert_to_num(url):\n",
    "    url_num = int(url.path[1:])\n",
    "    if url_num < 1 or url_num > CURR_MAX_COMIC:\n",
    "        return -1\n",
    "    else:\n",
    "        return url_num\n",
    "\n",
    "# Add URL --> number column\n",
    "reddit_df[\"xkcd_num\"] = reddit_df[\"xkcd_url_type\"].apply(convert_to_num, meta=int)\n",
    "reddit_df = reddit_df[\n",
    "    (reddit_df[\"xkcd_num\"] > 0)\n",
    "    & ~reddit_df[\"xkcd_num\"].isnull()\n",
    "]\n",
    "\n",
    "# naive remove samples with xkcd in parent\n",
    "# likely over fit signal (e.g. reminds of this specific xkcd 33)\n",
    "# or low signal... (e.g. does anyone have the xkcd link)\n",
    "reddit_df = reddit_df[~reddit_df[\"parent_body\"].str.contains(\"xkcd\")]\n",
    "\n",
    "def strip_markdown(sample):\n",
    "    html = markdown(sample)\n",
    "    return ''.join(BeautifulSoup(html).findAll(text=True))\n",
    "\n",
    "# strip markdown from text\n",
    "# technically we don't use the child body comment so we don't have to do this\n",
    "# reddit_df[\"body\"] = reddit_df[\"body\"].apply(unmark, meta=str)\n",
    "reddit_df[\"parent_body\"] = reddit_df[\"parent_body\"].apply(strip_markdown, meta=str)\n",
    "\n",
    "reddit_df.compute()"
   ],
   "metadata": {
    "collapsed": false,
    "pycharm": {
     "name": "#%%\n"
    }
   }
  },
  {
   "cell_type": "code",
   "execution_count": 10,
   "outputs": [
    {
     "name": "stdout",
     "output_type": "stream",
     "text": [
      "https://xkcd.com/37      58187\n",
      "https://xkcd.com/1053    16984\n",
      "https://xkcd.com/917      8396\n",
      "https://xkcd.com/927      5033\n",
      "https://xkcd.com/386      4684\n",
      "https://xkcd.com/936      3793\n",
      "https://xkcd.com/1357     3338\n",
      "https://xkcd.com/1013     3056\n",
      "https://xkcd.com/979      3009\n",
      "https://xkcd.com/327      2820\n",
      "https://xkcd.com/1756     2492\n",
      "https://xkcd.com/435      2416\n",
      "https://xkcd.com/323      2401\n",
      "https://xkcd.com/538      2264\n",
      "https://xkcd.com/774      2112\n",
      "Name: xkcd, dtype: int64\n",
      "CPU times: user 5.03 s, sys: 661 ms, total: 5.69 s\n",
      "Wall time: 1min 8s\n"
     ]
    }
   ],
   "source": [
    "%%time\n",
    "\n",
    "# what are the most common referenced xkcds on Reddit?\n",
    "# For some reason value_counts does not work with modin dataframes\n",
    "print(reddit_df[\"xkcd\"].value_counts().nlargest(15).compute())"
   ],
   "metadata": {
    "collapsed": false,
    "pycharm": {
     "name": "#%%\n"
    }
   }
  },
  {
   "cell_type": "code",
   "execution_count": 12,
   "outputs": [
    {
     "name": "stdout",
     "output_type": "stream",
     "text": [
      "Number of unreferenced xkcds: 312\n",
      "Percentage of total: 12.66%\n",
      "CPU times: user 4.35 s, sys: 547 ms, total: 4.9 s\n",
      "Wall time: 1min 1s\n"
     ]
    }
   ],
   "source": [
    "%%time\n",
    "\n",
    "# how many xkcds have never been referenced on Reddit?\n",
    "xkcds = dd.from_pandas(pd.Series(range(1, CURR_MAX_COMIC+1), name=\"xkcds\"), npartitions=1)\n",
    "# reddit_set = set(reddit_df[\"xkcd_num\"].tolist())\n",
    "num = (~xkcds.isin(reddit_df[\"xkcd_num\"].unique().compute().tolist())).sum().compute()\n",
    "print(f\"Number of unreferenced xkcds: {num}\")\n",
    "print(f\"Percentage of total: {num / len(xkcds) * 100:.2f}%\")"
   ],
   "metadata": {
    "collapsed": false,
    "pycharm": {
     "name": "#%%\n"
    }
   }
  },
  {
   "cell_type": "code",
   "execution_count": 13,
   "outputs": [
    {
     "name": "stdout",
     "output_type": "stream",
     "text": [
      "CPU times: user 45.6 s, sys: 2.06 s, total: 47.7 s\n",
      "Wall time: 1min 45s\n"
     ]
    }
   ],
   "source": [
    "%%time\n",
    "\n",
    "# simple tfidf model that uses the explanations from explain xkcd\n",
    "tfidf = TfidfVectorizer(strip_accents='ascii', stop_words='english', ngram_range=(1, 6), min_df=0.03)\n",
    "exp_vec = tfidf.fit_transform(xkcd_df['Explanation'].compute())\n",
    "reddit_vec = tfidf.transform(reddit_df['parent_body'].compute())"
   ],
   "metadata": {
    "collapsed": false,
    "pycharm": {
     "name": "#%%\n"
    }
   }
  },
  {
   "cell_type": "code",
   "execution_count": 15,
   "outputs": [
    {
     "name": "stdout",
     "output_type": "stream",
     "text": [
      "CPU times: user 5 s, sys: 635 ms, total: 5.64 s\n",
      "Wall time: 1min 7s\n"
     ]
    }
   ],
   "source": [
    "%%time\n",
    "\n",
    "y = reddit_df[\"xkcd_num\"].values.compute().reshape((-1, 1))\n",
    "# subtract 1 from y so that the xkcd numbers are 0 indexed\n",
    "y -= 1"
   ],
   "metadata": {
    "collapsed": false,
    "pycharm": {
     "name": "#%%\n"
    }
   }
  },
  {
   "cell_type": "code",
   "execution_count": 16,
   "outputs": [],
   "source": [
    "cos_y_hat = cosine_similarity(reddit_vec, exp_vec)"
   ],
   "metadata": {
    "collapsed": false,
    "pycharm": {
     "name": "#%%\n"
    }
   }
  },
  {
   "cell_type": "code",
   "execution_count": 17,
   "outputs": [],
   "source": [
    "def accuracy_n(y, y_hat, n=1):\n",
    "    \"\"\"Calculate the top-n accuracy given predicted class probabilities\"\"\"\n",
    "    # arg sort along the rows\n",
    "    top_n = np.argsort(y_hat, 1)[:, -n:]\n",
    "    return np.mean(np.fromiter((\n",
    "        1 if y[k] in top_n[k]\n",
    "        else 0\n",
    "        for k in range(len(top_n))\n",
    "    ), dtype=np.int8))"
   ],
   "metadata": {
    "collapsed": false,
    "pycharm": {
     "name": "#%%\n"
    }
   }
  },
  {
   "cell_type": "code",
   "execution_count": 18,
   "outputs": [
    {
     "name": "stdout",
     "output_type": "stream",
     "text": [
      "Top-1 Acc: 0.020%\n",
      "Top-5 Acc: 0.119%\n",
      "CPU times: user 55 s, sys: 13.1 s, total: 1min 8s\n",
      "Wall time: 1min 9s\n"
     ]
    }
   ],
   "source": [
    "%%time\n",
    "\n",
    "top_1 = accuracy_n(y, cos_y_hat)\n",
    "top_5 = accuracy_n(y, cos_y_hat, n=5)\n",
    "print(f\"Top-1 Acc: {top_1*100:.3f}%\")\n",
    "print(f\"Top-5 Acc: {top_5*100:.3f}%\")"
   ],
   "metadata": {
    "collapsed": false,
    "pycharm": {
     "name": "#%%\n"
    }
   }
  },
  {
   "cell_type": "code",
   "execution_count": 19,
   "outputs": [],
   "source": [
    "# BM25\n",
    "class BM25Transformer(BaseEstimator, TransformerMixin):\n",
    "    \"\"\"\n",
    "    Parameters\n",
    "    ----------\n",
    "    use_idf : boolean, optional (default=True)\n",
    "    k1 : float, optional (default=2.0)\n",
    "    b : float, optional (default=0.75)\n",
    "    References\n",
    "    ----------\n",
    "    Okapi BM25: a non-binary model - Introduction to Information Retrieval\n",
    "    http://nlp.stanford.edu/IR-book/html/htmledition/okapi-bm25-a-non-binary-model-1.html\n",
    "    \"\"\"\n",
    "    def __init__(self, use_idf=True, k1=2.0, b=0.75):\n",
    "        self.use_idf = use_idf\n",
    "        self.k1 = k1\n",
    "        self.b = b\n",
    "\n",
    "    def fit(self, X):\n",
    "        \"\"\"\n",
    "        Parameters\n",
    "        ----------\n",
    "        X : sparse matrix, [n_samples, n_features]\n",
    "            document-term matrix\n",
    "        \"\"\"\n",
    "        if not sp.issparse(X):\n",
    "            X = sp.csc_matrix(X)\n",
    "        if self.use_idf:\n",
    "            n_samples, n_features = X.shape\n",
    "            df = _document_frequency(X)\n",
    "            idf = np.log((n_samples - df + 0.5) / (df + 0.5))\n",
    "            self._idf_diag = sp.spdiags(idf, diags=0, m=n_features, n=n_features)\n",
    "        return self\n",
    "\n",
    "    def transform(self, X, copy=True):\n",
    "        \"\"\"\n",
    "        Parameters\n",
    "        ----------\n",
    "        X : sparse matrix, [n_samples, n_features]\n",
    "            document-term matrix\n",
    "        copy : boolean, optional (default=True)\n",
    "        \"\"\"\n",
    "        if hasattr(X, 'dtype') and np.issubdtype(X.dtype, np.float):\n",
    "            # preserve float family dtype\n",
    "            X = sp.csr_matrix(X, copy=copy)\n",
    "        else:\n",
    "            # convert counts or binary occurrences to floats\n",
    "            X = sp.csr_matrix(X, dtype=np.float64, copy=copy)\n",
    "\n",
    "        n_samples, n_features = X.shape\n",
    "\n",
    "        # Document length (number of terms) in each row\n",
    "        # Shape is (n_samples, 1)\n",
    "        dl = X.sum(axis=1)\n",
    "        # Number of non-zero elements in each row\n",
    "        # Shape is (n_samples, )\n",
    "        sz = X.indptr[1:] - X.indptr[0:-1]\n",
    "        # In each row, repeat `dl` for `sz` times\n",
    "        # Shape is (sum(sz), )\n",
    "        # Example\n",
    "        # -------\n",
    "        # dl = [4, 5, 6]\n",
    "        # sz = [1, 2, 3]\n",
    "        # rep = [4, 5, 5, 6, 6, 6]\n",
    "        rep = np.repeat(np.asarray(dl), sz)\n",
    "        # Average document length\n",
    "        # Scalar value\n",
    "        avgdl = np.average(dl)\n",
    "        # Compute BM25 score only for non-zero elements\n",
    "        data = X.data * (self.k1 + 1) / (X.data + self.k1 * (1 - self.b + self.b * rep / avgdl))\n",
    "        X = sp.csr_matrix((data, X.indices, X.indptr), shape=X.shape)\n",
    "\n",
    "        if self.use_idf:\n",
    "            check_is_fitted(self, '_idf_diag', 'idf vector is not fitted')\n",
    "\n",
    "            expected_n_features = self._idf_diag.shape[0]\n",
    "            if n_features != expected_n_features:\n",
    "                raise ValueError(\"Input has n_features=%d while the model\"\n",
    "                                 \" has been trained with n_features=%d\" % (\n",
    "                                     n_features, expected_n_features))\n",
    "            # *= doesn't work\n",
    "            X = X * self._idf_diag\n",
    "\n",
    "        return X"
   ],
   "metadata": {
    "collapsed": false,
    "pycharm": {
     "name": "#%%\n"
    }
   }
  },
  {
   "cell_type": "code",
   "execution_count": 20,
   "outputs": [
    {
     "data": {
      "text/plain": "array([['This test', 'hello world test'],\n       ['another one', 'well'],\n       ['hello world today good day', 'works']], dtype='<U26')"
     },
     "execution_count": 20,
     "metadata": {},
     "output_type": "execute_result"
    }
   ],
   "source": [
    "re_stopwords = re.compile(r'\\b(' + r'|'.join(stopwords.words('english')) + r')\\b\\s*')\n",
    "# remove stop words and punctuation\n",
    "replace_vec = np.vectorize(\n",
    "    lambda item: re_stopwords.sub('', item).translate(str.maketrans('', '', string.punctuation))\n",
    ")\n",
    "\n",
    "class StopWordRemover(BaseEstimator, TransformerMixin):\n",
    "\n",
    "    def fit(self, X, y=None):\n",
    "        return self\n",
    "\n",
    "    def transform(self, X):\n",
    "        return replace_vec(X)\n",
    "\n",
    "StopWordRemover().fit_transform(np.array([\n",
    "    [\"This is a test\", \"hello %world this is a test.\"],\n",
    "    [\"another one\", \"of how well\"],\n",
    "    [\"hello world, today is a good day.\", \"this works.\"]\n",
    "]))"
   ],
   "metadata": {
    "collapsed": false,
    "pycharm": {
     "name": "#%%\n"
    }
   }
  },
  {
   "cell_type": "code",
   "execution_count": 21,
   "outputs": [
    {
     "name": "stderr",
     "output_type": "stream",
     "text": [
      "<ipython-input-19-e12e7d46f997>:43: DeprecationWarning: `np.float` is a deprecated alias for the builtin `float`. To silence this warning, use `float` by itself. Doing this will not modify any behavior and is safe. If you specifically wanted the numpy scalar type, use `np.float64` here.\n",
      "Deprecated in NumPy 1.20; for more details and guidance: https://numpy.org/devdocs/release/1.20.0-notes.html#deprecations\n",
      "  if hasattr(X, 'dtype') and np.issubdtype(X.dtype, np.float):\n",
      "/Users/adithyabalaji/.pyenv/versions/3.8.0/envs/xkcd/lib/python3.8/site-packages/sklearn/utils/validation.py:67: FutureWarning: Pass msg=idf vector is not fitted as keyword args. From version 0.25 passing these as positional arguments will result in an error\n",
      "  warnings.warn(\"Pass {} as keyword args. From version 0.25 \"\n",
      "<ipython-input-19-e12e7d46f997>:43: DeprecationWarning: `np.float` is a deprecated alias for the builtin `float`. To silence this warning, use `float` by itself. Doing this will not modify any behavior and is safe. If you specifically wanted the numpy scalar type, use `np.float64` here.\n",
      "Deprecated in NumPy 1.20; for more details and guidance: https://numpy.org/devdocs/release/1.20.0-notes.html#deprecations\n",
      "  if hasattr(X, 'dtype') and np.issubdtype(X.dtype, np.float):\n",
      "/Users/adithyabalaji/.pyenv/versions/3.8.0/envs/xkcd/lib/python3.8/site-packages/sklearn/utils/validation.py:67: FutureWarning: Pass msg=idf vector is not fitted as keyword args. From version 0.25 passing these as positional arguments will result in an error\n",
      "  warnings.warn(\"Pass {} as keyword args. From version 0.25 \"\n"
     ]
    },
    {
     "name": "stdout",
     "output_type": "stream",
     "text": [
      "CPU times: user 1min 55s, sys: 22.1 s, total: 2min 17s\n",
      "Wall time: 4min 30s\n"
     ]
    }
   ],
   "source": [
    "%%time\n",
    "\n",
    "# TODO: Look into dask_ml to replace these custom transformers so\n",
    "#       they can be a lot faster\n",
    "p = Pipeline([\n",
    "    ('stop', StopWordRemover()),\n",
    "    ('count_vec', CountVectorizer(ngram_range=(1, 6))),\n",
    "    ('bm25', BM25Transformer()),\n",
    "])\n",
    "\n",
    "exp_vec2 = p.fit_transform(xkcd_df['Explanation'])\n",
    "reddit_vec2 = p.transform(reddit_df['parent_body'])"
   ],
   "metadata": {
    "collapsed": false,
    "pycharm": {
     "name": "#%%\n"
    }
   }
  },
  {
   "cell_type": "code",
   "execution_count": 22,
   "outputs": [
    {
     "name": "stdout",
     "output_type": "stream",
     "text": [
      "Top-1 Acc: 0.032%\n",
      "Top-5 Acc: 0.157%\n"
     ]
    }
   ],
   "source": [
    "cos_y_hat2 = cosine_similarity(reddit_vec2, exp_vec2)\n",
    "top_1 = accuracy_n(y, cos_y_hat2)\n",
    "top_5 = accuracy_n(y, cos_y_hat2, n=5)\n",
    "print(f\"Top-1 Acc: {top_1*100:.3f}%\")\n",
    "print(f\"Top-5 Acc: {top_5*100:.3f}%\")"
   ],
   "metadata": {
    "collapsed": false,
    "pycharm": {
     "name": "#%%\n"
    }
   }
  },
  {
   "cell_type": "code",
   "execution_count": 23,
   "outputs": [
    {
     "name": "stderr",
     "output_type": "stream",
     "text": [
      "/Users/adithyabalaji/.pyenv/versions/3.8.0/envs/xkcd/lib/python3.8/site-packages/dask_ml/model_selection/_split.py:462: FutureWarning: The default value for 'shuffle' must be specified when splitting DataFrames. In the future DataFrames will automatically be shuffled within blocks prior to splitting. Specify 'shuffle=True' to adopt the future behavior now, or 'shuffle=False' to retain the previous behavior.\n",
      "  warnings.warn(\n",
      "<ipython-input-19-e12e7d46f997>:43: DeprecationWarning: `np.float` is a deprecated alias for the builtin `float`. To silence this warning, use `float` by itself. Doing this will not modify any behavior and is safe. If you specifically wanted the numpy scalar type, use `np.float64` here.\n",
      "Deprecated in NumPy 1.20; for more details and guidance: https://numpy.org/devdocs/release/1.20.0-notes.html#deprecations\n",
      "  if hasattr(X, 'dtype') and np.issubdtype(X.dtype, np.float):\n",
      "/Users/adithyabalaji/.pyenv/versions/3.8.0/envs/xkcd/lib/python3.8/site-packages/sklearn/utils/validation.py:67: FutureWarning: Pass msg=idf vector is not fitted as keyword args. From version 0.25 passing these as positional arguments will result in an error\n",
      "  warnings.warn(\"Pass {} as keyword args. From version 0.25 \"\n",
      "<ipython-input-19-e12e7d46f997>:43: DeprecationWarning: `np.float` is a deprecated alias for the builtin `float`. To silence this warning, use `float` by itself. Doing this will not modify any behavior and is safe. If you specifically wanted the numpy scalar type, use `np.float64` here.\n",
      "Deprecated in NumPy 1.20; for more details and guidance: https://numpy.org/devdocs/release/1.20.0-notes.html#deprecations\n",
      "  if hasattr(X, 'dtype') and np.issubdtype(X.dtype, np.float):\n",
      "/Users/adithyabalaji/.pyenv/versions/3.8.0/envs/xkcd/lib/python3.8/site-packages/sklearn/utils/validation.py:67: FutureWarning: Pass msg=idf vector is not fitted as keyword args. From version 0.25 passing these as positional arguments will result in an error\n",
      "  warnings.warn(\"Pass {} as keyword args. From version 0.25 \"\n"
     ]
    },
    {
     "name": "stdout",
     "output_type": "stream",
     "text": [
      "CPU times: user 3min 24s, sys: 30.9 s, total: 3min 55s\n",
      "Wall time: 7min 56s\n"
     ]
    }
   ],
   "source": [
    "%%time\n",
    "\n",
    "# This takes about 10 minutes right now\n",
    "X_train_raw, X_test_raw, y_train, y_test = train_test_split(reddit_df['parent_body'], reddit_df[\"xkcd_num\"] - 1, test_size=0.25)\n",
    "xgb_pipe = clone(p)\n",
    "X_train = xgb_pipe.fit_transform(X_train_raw)\n",
    "X_test = xgb_pipe.transform(X_test_raw)"
   ],
   "metadata": {
    "collapsed": false,
    "pycharm": {
     "name": "#%%\n"
    }
   }
  },
  {
   "cell_type": "code",
   "execution_count": 26,
   "outputs": [
    {
     "data": {
      "text/plain": "dask.dataframe.core.Series"
     },
     "execution_count": 26,
     "metadata": {},
     "output_type": "execute_result"
    }
   ],
   "source": [
    "eval_set = [(X_train, y_train), (X_test, y_test)]\n",
    "\n",
    "# TODO: Fix bug attribute to_delayed not found (basically everything works up until this point)\n",
    "\n",
    "# clf = XGBClassifier()\n",
    "# clf.fit(X_train, y_train, eval_set=eval_set)"
   ],
   "metadata": {
    "collapsed": false,
    "pycharm": {
     "name": "#%%\n"
    }
   }
  },
  {
   "cell_type": "code",
   "execution_count": null,
   "outputs": [],
   "source": [
    "# clf.score(X_test_raw, y_test)"
   ],
   "metadata": {
    "collapsed": false,
    "pycharm": {
     "name": "#%%\n"
    }
   }
  }
 ],
 "metadata": {
  "kernelspec": {
   "display_name": "Python 3",
   "language": "python",
   "name": "python3"
  },
  "language_info": {
   "codemirror_mode": {
    "name": "ipython",
    "version": 2
   },
   "file_extension": ".py",
   "mimetype": "text/x-python",
   "name": "python",
   "nbconvert_exporter": "python",
   "pygments_lexer": "ipython2",
   "version": "2.7.6"
  }
 },
 "nbformat": 4,
 "nbformat_minor": 0
}