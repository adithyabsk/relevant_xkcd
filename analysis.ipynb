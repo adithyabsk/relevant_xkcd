{
 "cells": [
  {
   "cell_type": "code",
   "execution_count": 1,
   "metadata": {
    "collapsed": true
   },
   "outputs": [],
   "source": [
    "# Imports\n",
    "from pprint import pprint\n",
    "\n",
    "import numpy as np\n",
    "from yarl import URL\n",
    "from sklearn.feature_extraction.text import TfidfVectorizer\n",
    "from sklearn.metrics.pairwise import cosine_similarity\n",
    "from markdown import markdown\n",
    "from bs4 import BeautifulSoup"
   ]
  },
  {
   "cell_type": "code",
   "execution_count": 2,
   "outputs": [
    {
     "name": "stderr",
     "output_type": "stream",
     "text": [
      "2020-12-18 21:54:24,313\tINFO services.py:1090 -- View the Ray dashboard at \u001B[1m\u001B[32mhttp://127.0.0.1:8265\u001B[39m\u001B[22m\n"
     ]
    }
   ],
   "source": [
    "import os\n",
    "import ray\n",
    "\n",
    "os.environ[\"MODIN_ENGINE\"] = \"ray\"\n",
    "import modin.pandas as pd"
   ],
   "metadata": {
    "collapsed": false,
    "pycharm": {
     "name": "#%%\n"
    }
   }
  },
  {
   "cell_type": "markdown",
   "source": [
    "# Load / Clean Data\n",
    "\n",
    "## xkcd dataset\n",
    "\n",
    "First we load in the xkcd dataset from https://www.explainxkcd.com\n",
    "\n",
    "This dataset has 2388 xkcd comics run on (22 November 2020)\n",
    "\n",
    "Each row has the following features:\n",
    "\n",
    "* **xkcd**: The link to the official xkcd comic URL\n",
    "* **xkcd_num**: The extracted comic number from the URL\n",
    "* **Title**: The link to the Explain XKCD wiki page for that comic\n",
    "* **Image**: Link to a backup hosted image of the XKCD comic\n",
    "* **Date**: The original date of publication of the comic\n",
    "* **TitleText**: Title of the comic\n",
    "* **Explanation**: A community explanation of the comic deciphering the sometimes pithy\n",
    "or cryptic humor\n",
    "* **Transcript**: If the comic has characters speaking, this section has the text of the\n",
    "comic."
   ],
   "metadata": {
    "collapsed": false,
    "pycharm": {
     "name": "#%% md\n"
    }
   }
  },
  {
   "cell_type": "code",
   "execution_count": 3,
   "outputs": [
    {
     "name": "stderr",
     "output_type": "stream",
     "text": [
      "UserWarning: User-defined function verification is still under development in Modin. The function provided is not verified.\n"
     ]
    },
    {
     "name": "stdout",
     "output_type": "stream",
     "text": [
      "Index(['Title', 'xkcd', 'Image', 'Date', 'TitleText', 'Explanation',\n",
      "       'Transcript', 'xkcd_num'],\n",
      "      dtype='object')\n"
     ]
    }
   ],
   "source": [
    "# Process explain xkcd data\n",
    "links_df = pd.read_csv(\"./data/xkcd/links_df.csv\") # .set_index(\"Title\")\n",
    "# There is a bug in the data collection which is caused by this surprise:\n",
    "# https://www.explainxkcd.com/wiki/index.php/Disappearing_Sunday_Update\n",
    "# its a comic with the same id which he speculates will break automated system. Sure\n",
    "# broke mine!\n",
    "links_df = links_df[links_df[\"TitleText\"] != \"Disappearing Sunday Update\"].set_index(\"Title\")\n",
    "pages_df = pd.read_csv(\"./data/xkcd/pages_df.csv\") # .set_index(\"Title\")\n",
    "pages_df = pages_df.drop_duplicates()\n",
    "xkcd_df = pd.merge(links_df, pages_df, how='left', on=\"Title\", validate=\"one_to_one\")\n",
    "xkcd_df[\"xkcd_num\"] = xkcd_df[\"xkcd\"].apply(\n",
    "    lambda url: int(URL(url).path.replace(\"/\", \"\"))\n",
    ")\n",
    "print(xkcd_df.columns)\n",
    "CURR_MAX_COMIC = xkcd_df[\"xkcd_num\"].max()"
   ],
   "metadata": {
    "collapsed": false,
    "pycharm": {
     "name": "#%%\n"
    }
   }
  },
  {
   "cell_type": "code",
   "execution_count": 3,
   "outputs": [
    {
     "data": {
      "text/plain": "                                          Title                xkcd  \\\n0  https://www.explainxkcd.com/wiki/index.php/1  https://xkcd.com/1   \n1  https://www.explainxkcd.com/wiki/index.php/2  https://xkcd.com/2   \n2  https://www.explainxkcd.com/wiki/index.php/3  https://xkcd.com/3   \n3  https://www.explainxkcd.com/wiki/index.php/4  https://xkcd.com/4   \n4  https://www.explainxkcd.com/wiki/index.php/5  https://xkcd.com/5   \n\n                                               Image        Date  \\\n0  https://www.explainxkcd.com/wiki/index.php/Fil...  2005-09-30   \n1  https://www.explainxkcd.com/wiki/index.php/Fil...  2005-09-30   \n2  https://www.explainxkcd.com/wiki/index.php/Fil...  2005-09-30   \n3  https://www.explainxkcd.com/wiki/index.php/Fil...  2005-09-30   \n4  https://www.explainxkcd.com/wiki/index.php/Fil...         NaN   \n\n              TitleText                                        Explanation  \\\n0       Barrel - Part 1  The comic shows a young boy floating in a barr...   \n1  Petit Trees (sketch)  This comic does not present a particular point...   \n2       Island (sketch)  This comic does not present a particular point...   \n3    Landscape (sketch)  This comic does not present a particular point...   \n4           Blown apart  This comic is a mathematical and technical jok...   \n\n                                          Transcript  xkcd_num  \n0  [A boy sits in a barrel which is floating in a...         1  \n1  [Two trees are growing on opposite sides of a ...         2  \n2                     [A color sketch of an island.]         3  \n3  [A sketch of a landscape with sun on the horiz...         4  \n4  [A black number 70 sees a red package and a li...         5  ",
      "text/html": "<div>\n<style scoped>\n    .dataframe tbody tr th:only-of-type {\n        vertical-align: middle;\n    }\n\n    .dataframe tbody tr th {\n        vertical-align: top;\n    }\n\n    .dataframe thead th {\n        text-align: right;\n    }\n</style>\n<table border=\"1\" class=\"dataframe\">\n  <thead>\n    <tr style=\"text-align: right;\">\n      <th></th>\n      <th>Title</th>\n      <th>xkcd</th>\n      <th>Image</th>\n      <th>Date</th>\n      <th>TitleText</th>\n      <th>Explanation</th>\n      <th>Transcript</th>\n      <th>xkcd_num</th>\n    </tr>\n  </thead>\n  <tbody>\n    <tr>\n      <th>0</th>\n      <td>https://www.explainxkcd.com/wiki/index.php/1</td>\n      <td>https://xkcd.com/1</td>\n      <td>https://www.explainxkcd.com/wiki/index.php/Fil...</td>\n      <td>2005-09-30</td>\n      <td>Barrel - Part 1</td>\n      <td>The comic shows a young boy floating in a barr...</td>\n      <td>[A boy sits in a barrel which is floating in a...</td>\n      <td>1</td>\n    </tr>\n    <tr>\n      <th>1</th>\n      <td>https://www.explainxkcd.com/wiki/index.php/2</td>\n      <td>https://xkcd.com/2</td>\n      <td>https://www.explainxkcd.com/wiki/index.php/Fil...</td>\n      <td>2005-09-30</td>\n      <td>Petit Trees (sketch)</td>\n      <td>This comic does not present a particular point...</td>\n      <td>[Two trees are growing on opposite sides of a ...</td>\n      <td>2</td>\n    </tr>\n    <tr>\n      <th>2</th>\n      <td>https://www.explainxkcd.com/wiki/index.php/3</td>\n      <td>https://xkcd.com/3</td>\n      <td>https://www.explainxkcd.com/wiki/index.php/Fil...</td>\n      <td>2005-09-30</td>\n      <td>Island (sketch)</td>\n      <td>This comic does not present a particular point...</td>\n      <td>[A color sketch of an island.]</td>\n      <td>3</td>\n    </tr>\n    <tr>\n      <th>3</th>\n      <td>https://www.explainxkcd.com/wiki/index.php/4</td>\n      <td>https://xkcd.com/4</td>\n      <td>https://www.explainxkcd.com/wiki/index.php/Fil...</td>\n      <td>2005-09-30</td>\n      <td>Landscape (sketch)</td>\n      <td>This comic does not present a particular point...</td>\n      <td>[A sketch of a landscape with sun on the horiz...</td>\n      <td>4</td>\n    </tr>\n    <tr>\n      <th>4</th>\n      <td>https://www.explainxkcd.com/wiki/index.php/5</td>\n      <td>https://xkcd.com/5</td>\n      <td>https://www.explainxkcd.com/wiki/index.php/Fil...</td>\n      <td>NaN</td>\n      <td>Blown apart</td>\n      <td>This comic is a mathematical and technical jok...</td>\n      <td>[A black number 70 sees a red package and a li...</td>\n      <td>5</td>\n    </tr>\n  </tbody>\n</table>\n</div>"
     },
     "execution_count": 3,
     "metadata": {},
     "output_type": "execute_result"
    }
   ],
   "source": [
    "xkcd_df.head()"
   ],
   "metadata": {
    "collapsed": false,
    "pycharm": {
     "name": "#%%\n"
    }
   }
  },
  {
   "cell_type": "markdown",
   "source": [
    "## reddit dataset\n",
    "\n",
    "Next we load in the reddit dataset which is a collection of every reference of an xkcd\n",
    "url on Reddit.\n",
    "\n",
    "This dataset has 313485 samples and 9 features. The comments are collected from 2007 to\n",
    "2019, inclusive.\n",
    "\n",
    "Each sample has the following features:\n",
    "\n",
    "* **body**: The text in the comment body (should have an xkcd url)\n",
    "* **author**: The reddit user's name\n",
    "* **score**: The comment's score (should be >= 1)\n",
    "* **permalink**: The permalink to the comment\n",
    "* **parent_***: The previous four attributes for the child comment's parent.\n",
    "* **xkcd**: The xkcd comic url extracted from the child comment\n",
    "* **xkcd_num**: The comic number extracted from the URL"
   ],
   "metadata": {
    "collapsed": false,
    "pycharm": {
     "name": "#%% md\n"
    }
   }
  },
  {
   "cell_type": "code",
   "execution_count": 4,
   "outputs": [
    {
     "name": "stdout",
     "output_type": "stream",
     "text": [
      "Index(['body', 'author', 'score', 'permalink', 'xkcd', 'parent_body',\n",
      "       'parent_author', 'parent_score', 'parent_permalink'],\n",
      "      dtype='object')\n",
      "CPU times: user 2.08 s, sys: 451 ms, total: 2.53 s\n",
      "Wall time: 4.46 s\n"
     ]
    }
   ],
   "source": [
    "%%time\n",
    "\n",
    "# Process reddit data\n",
    "file_names =  [\n",
    "    *list(map(str, range(2007, 2015))),\n",
    "    *[f\"{year}_{month:02d}\" for year in range(2015, 2020) for month in range(1, 13)]\n",
    "]\n",
    "reddit_dfs = [\n",
    "    pd.read_csv(f\"./data/reddit/{file_name}.csv\")\n",
    "    for file_name in file_names\n",
    "]\n",
    "reddit_df = pd.concat(reddit_dfs, ignore_index=True)\n",
    "print(reddit_df.columns)"
   ],
   "metadata": {
    "collapsed": false,
    "pycharm": {
     "name": "#%%\n"
    }
   }
  },
  {
   "cell_type": "code",
   "execution_count": 5,
   "outputs": [
    {
     "data": {
      "text/plain": "                                                     body             author  \\\n313480  [The sword is traditionally carried on the lef...  lesser_panjandrum   \n313481          [Hardest Refresh](https://xkcd.com/1854/)    ultimate_doge06   \n313482                              https://xkcd.com/387/        unquietwiki   \n313483              [Around 2026](https://xkcd.com/2014/)        Skeptophile   \n313484            [Relevant xkcd](https://xkcd.com/2205/)            xkcloud   \n\n        score                                          permalink  \\\n313480     38  http://reddit.com/r/TrollXChromosomes/comments...   \n313481     38  http://reddit.com/r/furry_irl/comments/ei71rs/...   \n313482     38  http://reddit.com/r/AskReddit/comments/earnak/...   \n313483     38  http://reddit.com/r/space/comments/ei2dka/c/fc...   \n313484     38  http://reddit.com/r/NoStupidQuestions/comments...   \n\n                          xkcd  \\\n313480  https://xkcd.com/1403/   \n313481  https://xkcd.com/1854/   \n313482   https://xkcd.com/387/   \n313483  https://xkcd.com/2014/   \n313484  https://xkcd.com/2205/   \n\n                                              parent_body  \\\n313480   Come again?\\n\\nI may be inclined to get a PhD...   \n313481                      How do I delete the internet?   \n313482  \"That was cool and all, but what was going on ...   \n313483  Is the James Webb telescope going to launch an...   \n313484  It's called an order of magnitude calculation....   \n\n              parent_author  parent_score  \\\n313480          Pufflehuffy            11   \n313481                Zorxs            41   \n313482             Ytterbro           117   \n313483  MasterofMistakes007           363   \n313484          jansencheng            75   \n\n                                         parent_permalink  \n313480  http://reddit.com/r/TrollXChromosomes/comments...  \n313481  http://reddit.com/r/furry_irl/comments/ei71rs/...  \n313482  http://reddit.com/r/AskReddit/comments/earnak/...  \n313483  http://reddit.com/r/space/comments/ei2dka/c/fc...  \n313484  http://reddit.com/r/NoStupidQuestions/comments...  ",
      "text/html": "<div>\n<style scoped>\n    .dataframe tbody tr th:only-of-type {\n        vertical-align: middle;\n    }\n\n    .dataframe tbody tr th {\n        vertical-align: top;\n    }\n\n    .dataframe thead th {\n        text-align: right;\n    }\n</style>\n<table border=\"1\" class=\"dataframe\">\n  <thead>\n    <tr style=\"text-align: right;\">\n      <th></th>\n      <th>body</th>\n      <th>author</th>\n      <th>score</th>\n      <th>permalink</th>\n      <th>xkcd</th>\n      <th>parent_body</th>\n      <th>parent_author</th>\n      <th>parent_score</th>\n      <th>parent_permalink</th>\n    </tr>\n  </thead>\n  <tbody>\n    <tr>\n      <th>313480</th>\n      <td>[The sword is traditionally carried on the lef...</td>\n      <td>lesser_panjandrum</td>\n      <td>38</td>\n      <td>http://reddit.com/r/TrollXChromosomes/comments...</td>\n      <td>https://xkcd.com/1403/</td>\n      <td>Come again?\\n\\nI may be inclined to get a PhD...</td>\n      <td>Pufflehuffy</td>\n      <td>11</td>\n      <td>http://reddit.com/r/TrollXChromosomes/comments...</td>\n    </tr>\n    <tr>\n      <th>313481</th>\n      <td>[Hardest Refresh](https://xkcd.com/1854/)</td>\n      <td>ultimate_doge06</td>\n      <td>38</td>\n      <td>http://reddit.com/r/furry_irl/comments/ei71rs/...</td>\n      <td>https://xkcd.com/1854/</td>\n      <td>How do I delete the internet?</td>\n      <td>Zorxs</td>\n      <td>41</td>\n      <td>http://reddit.com/r/furry_irl/comments/ei71rs/...</td>\n    </tr>\n    <tr>\n      <th>313482</th>\n      <td>https://xkcd.com/387/</td>\n      <td>unquietwiki</td>\n      <td>38</td>\n      <td>http://reddit.com/r/AskReddit/comments/earnak/...</td>\n      <td>https://xkcd.com/387/</td>\n      <td>\"That was cool and all, but what was going on ...</td>\n      <td>Ytterbro</td>\n      <td>117</td>\n      <td>http://reddit.com/r/AskReddit/comments/earnak/...</td>\n    </tr>\n    <tr>\n      <th>313483</th>\n      <td>[Around 2026](https://xkcd.com/2014/)</td>\n      <td>Skeptophile</td>\n      <td>38</td>\n      <td>http://reddit.com/r/space/comments/ei2dka/c/fc...</td>\n      <td>https://xkcd.com/2014/</td>\n      <td>Is the James Webb telescope going to launch an...</td>\n      <td>MasterofMistakes007</td>\n      <td>363</td>\n      <td>http://reddit.com/r/space/comments/ei2dka/c/fc...</td>\n    </tr>\n    <tr>\n      <th>313484</th>\n      <td>[Relevant xkcd](https://xkcd.com/2205/)</td>\n      <td>xkcloud</td>\n      <td>38</td>\n      <td>http://reddit.com/r/NoStupidQuestions/comments...</td>\n      <td>https://xkcd.com/2205/</td>\n      <td>It's called an order of magnitude calculation....</td>\n      <td>jansencheng</td>\n      <td>75</td>\n      <td>http://reddit.com/r/NoStupidQuestions/comments...</td>\n    </tr>\n  </tbody>\n</table>\n</div>"
     },
     "execution_count": 5,
     "metadata": {},
     "output_type": "execute_result"
    }
   ],
   "source": [
    "reddit_df.tail()"
   ],
   "metadata": {
    "collapsed": false,
    "pycharm": {
     "name": "#%%\n"
    }
   }
  },
  {
   "cell_type": "code",
   "execution_count": 6,
   "outputs": [
    {
     "name": "stdout",
     "output_type": "stream",
     "text": [
      "266244\n",
      "CPU times: user 21.5 s, sys: 2.4 s, total: 23.9 s\n",
      "Wall time: 30.8 s\n"
     ]
    }
   ],
   "source": [
    "%%time\n",
    "\n",
    "# Clean up reddit_df\n",
    "\n",
    "# remove null rows in important columns\n",
    "reddit_df = reddit_df[~(\n",
    "        reddit_df[\"xkcd\"].isnull()\n",
    "        | reddit_df[\"parent_body\"].isnull()\n",
    "        | reddit_df[\"body\"].isnull()\n",
    ")]\n",
    "# remove malformed row\n",
    "reddit_df = reddit_df.drop(index=52737)\n",
    "# Clean up multiple versions of URL to singular version\n",
    "# (i.e. m.xkcd, ending with slash, without slash, etc...)\n",
    "reddit_df[\"xkcd\"] = reddit_df[\"xkcd\"].apply(\n",
    "    lambda url: \"https://xkcd.com/\" + URL(url).path.replace(\"/\", \"\")\n",
    ")\n",
    "# Drop invalid comic numbers\n",
    "# the convert_dtype=False is required here because some annoying people used invalid URLs\n",
    "# with really large numbers\n",
    "mask = reddit_df[\"xkcd\"].apply(\n",
    "    lambda url: int(URL(url).path[1:]) < CURR_MAX_COMIC, convert_dtype=False\n",
    ").values.astype(bool)\n",
    "reddit_df = reddit_df[mask]\n",
    "\n",
    "# Add URL --> number column\n",
    "reddit_df[\"xkcd_num\"] = reddit_df[\"xkcd\"].apply(lambda url: int(URL(url).path[1:]))\n",
    "\n",
    "# naive remove samples with xkcd in parent\n",
    "# likely over fit signal (e.g. reminds of this specific xkcd 33)\n",
    "# or low signal... (e.g. does anyone have the xkcd link)\n",
    "reddit_df = reddit_df[~reddit_df[\"parent_body\"].str.contains(\"xkcd\")]\n",
    "\n",
    "def strip_markdown(sample):\n",
    "    html = markdown(sample)\n",
    "    return ''.join(BeautifulSoup(html).findAll(text=True))\n",
    "\n",
    "# strip markdown from text\n",
    "reddit_df[\"body\"] = reddit_df[\"body\"].apply(strip_markdown)\n",
    "reddit_df[\"parent_body\"] = reddit_df[\"parent_body\"].apply(strip_markdown)\n",
    "\n",
    "# reset index numbering\n",
    "reddit_df.reset_index(drop=True, inplace=True)\n",
    "print(len(reddit_df))"
   ],
   "metadata": {
    "collapsed": false,
    "pycharm": {
     "name": "#%%\n"
    }
   }
  },
  {
   "cell_type": "code",
   "execution_count": 9,
   "outputs": [
    {
     "name": "stdout",
     "output_type": "stream",
     "text": [
      "https://xkcd.com/37      58187\n",
      "https://xkcd.com/1053    16984\n",
      "https://xkcd.com/917      8396\n",
      "https://xkcd.com/927      5033\n",
      "https://xkcd.com/386      4684\n",
      "https://xkcd.com/936      3793\n",
      "https://xkcd.com/1357     3338\n",
      "https://xkcd.com/1013     3056\n",
      "https://xkcd.com/979      3008\n",
      "https://xkcd.com/327      2820\n",
      "https://xkcd.com/1756     2492\n",
      "https://xkcd.com/435      2416\n",
      "https://xkcd.com/323      2401\n",
      "https://xkcd.com/538      2264\n",
      "https://xkcd.com/774      2112\n",
      "Name: xkcd, dtype: int64\n"
     ]
    }
   ],
   "source": [
    "# what are the most common referenced xkcds on Reddit?\n",
    "# For some reason value_counts does not work with modin dataframes\n",
    "print(reddit_df[\"xkcd\"]._to_pandas().value_counts().nlargest(15))"
   ],
   "metadata": {
    "collapsed": false,
    "pycharm": {
     "name": "#%%\n"
    }
   }
  },
  {
   "cell_type": "code",
   "execution_count": 10,
   "outputs": [
    {
     "name": "stderr",
     "output_type": "stream",
     "text": [
      "UserWarning: `Series.tolist` defaulting to pandas implementation.\n",
      "To request implementation, send an email to feature_requests@modin.org.\n"
     ]
    },
    {
     "name": "stdout",
     "output_type": "stream",
     "text": [
      "Number of unreferenced xkcds: 234\n",
      "Percentage of total: 9.80%\n"
     ]
    }
   ],
   "source": [
    "# how many xkcds have never been referenced on Reddit?\n",
    "xkcds = set(range(1, CURR_MAX_COMIC))\n",
    "reddit_set = set(reddit_df[\"xkcd_num\"].tolist())\n",
    "num = len(xkcds - reddit_set)\n",
    "print(f\"Number of unreferenced xkcds: {num}\")\n",
    "print(f\"Percentage of total: {num / len(xkcds) * 100:.2f}%\")"
   ],
   "metadata": {
    "collapsed": false,
    "pycharm": {
     "name": "#%%\n"
    }
   }
  },
  {
   "cell_type": "code",
   "execution_count": 12,
   "outputs": [
    {
     "name": "stdout",
     "output_type": "stream",
     "text": [
      "CPU times: user 49.7 s, sys: 3.35 s, total: 53.1 s\n",
      "Wall time: 3min 53s\n"
     ]
    }
   ],
   "source": [
    "%%time\n",
    "\n",
    "# simple tfidf model that uses the explanations from explain xkcd\n",
    "tfidf = TfidfVectorizer(strip_accents='ascii', stop_words='english', ngram_range=(1, 6), min_df=0.03)\n",
    "exp_vec = tfidf.fit_transform(xkcd_df['Explanation'].values)\n",
    "reddit_vec = tfidf.transform(reddit_df['parent_body'].values)"
   ],
   "metadata": {
    "collapsed": false,
    "pycharm": {
     "name": "#%%\n"
    }
   }
  },
  {
   "cell_type": "code",
   "execution_count": 14,
   "outputs": [
    {
     "name": "stdout",
     "output_type": "stream",
     "text": [
      "CPU times: user 19.4 s, sys: 6.6 s, total: 26 s\n",
      "Wall time: 29 s\n"
     ]
    }
   ],
   "source": [
    "%%time\n",
    "\n",
    "y = reddit_df[\"xkcd_num\"].values.reshape((-1, 1))\n",
    "cos_y_hat = cosine_similarity(reddit_vec, exp_vec)"
   ],
   "metadata": {
    "collapsed": false,
    "pycharm": {
     "name": "#%%\n"
    }
   }
  },
  {
   "cell_type": "code",
   "execution_count": 21,
   "outputs": [],
   "source": [
    "def accuracy_n(y, y_hat, n=1):\n",
    "    \"\"\"Calculate the top-n accuracy given predicted class probabilities\"\"\"\n",
    "    # arg sort along the rows\n",
    "    top_n = np.argsort(y_hat, 1)[:, -n:]\n",
    "    return np.mean(np.fromiter((\n",
    "        1 if y[k] in top_n[k]\n",
    "        else 0\n",
    "        for k in range(len(top_n))\n",
    "    ), dtype=np.int8))"
   ],
   "metadata": {
    "collapsed": false,
    "pycharm": {
     "name": "#%%\n"
    }
   }
  },
  {
   "cell_type": "code",
   "execution_count": 22,
   "outputs": [
    {
     "name": "stdout",
     "output_type": "stream",
     "text": [
      "Top-1 Acc: 0.029%\n",
      "Top-5 Acc: 0.161%\n",
      "CPU times: user 45.8 s, sys: 5.81 s, total: 51.6 s\n",
      "Wall time: 54.3 s\n"
     ]
    }
   ],
   "source": [
    "%%time\n",
    "\n",
    "top_1 = accuracy_n(y, cos_y_hat)\n",
    "top_5 = accuracy_n(y, cos_y_hat, n=5)\n",
    "print(f\"Top-1 Acc: {top_1*100:.3f}%\")\n",
    "print(f\"Top-5 Acc: {top_5*100:.3f}%\")"
   ],
   "metadata": {
    "collapsed": false,
    "pycharm": {
     "name": "#%%\n"
    }
   }
  },
  {
   "cell_type": "code",
   "execution_count": 32,
   "outputs": [],
   "source": [
    "# BM25\n",
    "\n",
    "import scipy.sparse as sp\n",
    "from sklearn.base import BaseEstimator, TransformerMixin\n",
    "from sklearn.utils.validation import check_is_fitted\n",
    "from sklearn.feature_extraction.text import _document_frequency\n",
    "\n",
    "class BM25Transformer(BaseEstimator, TransformerMixin):\n",
    "    \"\"\"\n",
    "    Parameters\n",
    "    ----------\n",
    "    use_idf : boolean, optional (default=True)\n",
    "    k1 : float, optional (default=2.0)\n",
    "    b : float, optional (default=0.75)\n",
    "    References\n",
    "    ----------\n",
    "    Okapi BM25: a non-binary model - Introduction to Information Retrieval\n",
    "    http://nlp.stanford.edu/IR-book/html/htmledition/okapi-bm25-a-non-binary-model-1.html\n",
    "    \"\"\"\n",
    "    def __init__(self, use_idf=True, k1=2.0, b=0.75):\n",
    "        self.use_idf = use_idf\n",
    "        self.k1 = k1\n",
    "        self.b = b\n",
    "\n",
    "    def fit(self, X):\n",
    "        \"\"\"\n",
    "        Parameters\n",
    "        ----------\n",
    "        X : sparse matrix, [n_samples, n_features]\n",
    "            document-term matrix\n",
    "        \"\"\"\n",
    "        if not sp.issparse(X):\n",
    "            X = sp.csc_matrix(X)\n",
    "        if self.use_idf:\n",
    "            n_samples, n_features = X.shape\n",
    "            df = _document_frequency(X)\n",
    "            idf = np.log((n_samples - df + 0.5) / (df + 0.5))\n",
    "            self._idf_diag = sp.spdiags(idf, diags=0, m=n_features, n=n_features)\n",
    "        return self\n",
    "\n",
    "    def transform(self, X, copy=True):\n",
    "        \"\"\"\n",
    "        Parameters\n",
    "        ----------\n",
    "        X : sparse matrix, [n_samples, n_features]\n",
    "            document-term matrix\n",
    "        copy : boolean, optional (default=True)\n",
    "        \"\"\"\n",
    "        if hasattr(X, 'dtype') and np.issubdtype(X.dtype, np.float):\n",
    "            # preserve float family dtype\n",
    "            X = sp.csr_matrix(X, copy=copy)\n",
    "        else:\n",
    "            # convert counts or binary occurrences to floats\n",
    "            X = sp.csr_matrix(X, dtype=np.float64, copy=copy)\n",
    "\n",
    "        n_samples, n_features = X.shape\n",
    "\n",
    "        # Document length (number of terms) in each row\n",
    "        # Shape is (n_samples, 1)\n",
    "        dl = X.sum(axis=1)\n",
    "        # Number of non-zero elements in each row\n",
    "        # Shape is (n_samples, )\n",
    "        sz = X.indptr[1:] - X.indptr[0:-1]\n",
    "        # In each row, repeat `dl` for `sz` times\n",
    "        # Shape is (sum(sz), )\n",
    "        # Example\n",
    "        # -------\n",
    "        # dl = [4, 5, 6]\n",
    "        # sz = [1, 2, 3]\n",
    "        # rep = [4, 5, 5, 6, 6, 6]\n",
    "        rep = np.repeat(np.asarray(dl), sz)\n",
    "        # Average document length\n",
    "        # Scalar value\n",
    "        avgdl = np.average(dl)\n",
    "        # Compute BM25 score only for non-zero elements\n",
    "        data = X.data * (self.k1 + 1) / (X.data + self.k1 * (1 - self.b + self.b * rep / avgdl))\n",
    "        X = sp.csr_matrix((data, X.indices, X.indptr), shape=X.shape)\n",
    "\n",
    "        if self.use_idf:\n",
    "            check_is_fitted(self, '_idf_diag', 'idf vector is not fitted')\n",
    "\n",
    "            expected_n_features = self._idf_diag.shape[0]\n",
    "            if n_features != expected_n_features:\n",
    "                raise ValueError(\"Input has n_features=%d while the model\"\n",
    "                                 \" has been trained with n_features=%d\" % (\n",
    "                                     n_features, expected_n_features))\n",
    "            # *= doesn't work\n",
    "            X = X * self._idf_diag\n",
    "\n",
    "        return X"
   ],
   "metadata": {
    "collapsed": false,
    "pycharm": {
     "name": "#%%\n"
    }
   }
  },
  {
   "cell_type": "code",
   "execution_count": 31,
   "outputs": [
    {
     "name": "stderr",
     "output_type": "stream",
     "text": [
      "[nltk_data] Downloading package stopwords to\n",
      "[nltk_data]     /Users/adithyabalaji/nltk_data...\n",
      "[nltk_data]   Package stopwords is already up-to-date!\n"
     ]
    },
    {
     "data": {
      "text/plain": "array([['This test', 'hello world test'],\n       ['another one', 'well'],\n       ['hello world today good day', 'works']], dtype='<U26')"
     },
     "execution_count": 31,
     "metadata": {},
     "output_type": "execute_result"
    }
   ],
   "source": [
    "import re\n",
    "import string\n",
    "import nltk\n",
    "nltk.download('stopwords')\n",
    "from nltk.corpus import stopwords\n",
    "\n",
    "re_stopwords = re.compile(r'\\b(' + r'|'.join(stopwords.words('english')) + r')\\b\\s*')\n",
    "# remove stop words and punctuation\n",
    "replace_vec = np.vectorize(\n",
    "    lambda item: re_stopwords.sub('', item).translate(str.maketrans('', '', string.punctuation))\n",
    ")\n",
    "\n",
    "class StopWordRemover(BaseEstimator, TransformerMixin):\n",
    "\n",
    "    def fit(self, X, y=None):\n",
    "        return self\n",
    "\n",
    "    def transform(self, X):\n",
    "        return replace_vec(X)\n",
    "\n",
    "StopWordRemover().fit_transform(np.array([\n",
    "    [\"This is a test\", \"hello %world this is a test.\"],\n",
    "    [\"another one\", \"of how well\"],\n",
    "    [\"hello world, today is a good day.\", \"this works.\"]\n",
    "]))"
   ],
   "metadata": {
    "collapsed": false,
    "pycharm": {
     "name": "#%%\n"
    }
   }
  },
  {
   "cell_type": "code",
   "execution_count": 35,
   "outputs": [
    {
     "name": "stderr",
     "output_type": "stream",
     "text": [
      "FutureWarning: Pass msg=idf vector is not fitted as keyword args. From version 0.25 passing these as positional arguments will result in an error\n"
     ]
    },
    {
     "name": "stdout",
     "output_type": "stream",
     "text": [
      "CPU times: user 2min 1s, sys: 19.4 s, total: 2min 20s\n",
      "Wall time: 4min 9s\n"
     ]
    }
   ],
   "source": [
    "%%time\n",
    "\n",
    "from sklearn.feature_extraction.text import CountVectorizer\n",
    "from sklearn.pipeline import Pipeline\n",
    "\n",
    "p = Pipeline([\n",
    "    ('stop', StopWordRemover()),\n",
    "    ('count_vec', CountVectorizer(ngram_range=(1, 6))),\n",
    "    ('bm25', BM25Transformer()),\n",
    "])\n",
    "\n",
    "exp_vec2 = p.fit_transform(xkcd_df['Explanation'].values)\n",
    "reddit_vec2 = p.transform(reddit_df['parent_body'].values)"
   ],
   "metadata": {
    "collapsed": false,
    "pycharm": {
     "name": "#%%\n"
    }
   }
  },
  {
   "cell_type": "code",
   "execution_count": 36,
   "outputs": [
    {
     "name": "stdout",
     "output_type": "stream",
     "text": [
      "Top-1 Acc: 0.035%\n",
      "Top-5 Acc: 0.210%\n"
     ]
    }
   ],
   "source": [
    "cos_y_hat2 = cosine_similarity(reddit_vec2, exp_vec2)\n",
    "top_1 = accuracy_n(y, cos_y_hat2)\n",
    "top_5 = accuracy_n(y, cos_y_hat2, n=5)\n",
    "print(f\"Top-1 Acc: {top_1*100:.3f}%\")\n",
    "print(f\"Top-5 Acc: {top_5*100:.3f}%\")"
   ],
   "metadata": {
    "collapsed": false,
    "pycharm": {
     "name": "#%%\n"
    }
   }
  },
  {
   "cell_type": "code",
   "execution_count": null,
   "outputs": [],
   "source": [],
   "metadata": {
    "collapsed": false,
    "pycharm": {
     "name": "#%%\n"
    }
   }
  }
 ],
 "metadata": {
  "kernelspec": {
   "display_name": "Python 3",
   "language": "python",
   "name": "python3"
  },
  "language_info": {
   "codemirror_mode": {
    "name": "ipython",
    "version": 2
   },
   "file_extension": ".py",
   "mimetype": "text/x-python",
   "name": "python",
   "nbconvert_exporter": "python",
   "pygments_lexer": "ipython2",
   "version": "2.7.6"
  }
 },
 "nbformat": 4,
 "nbformat_minor": 0
}