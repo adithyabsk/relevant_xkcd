{
 "cells": [
  {
   "cell_type": "code",
   "execution_count": 174,
   "metadata": {
    "collapsed": true
   },
   "outputs": [],
   "source": [
    "# Imports\n",
    "import numpy as np\n",
    "import pandas as pd\n",
    "from yarl import URL\n",
    "from sklearn.feature_extraction.text import TfidfVectorizer\n",
    "from sklearn.metrics.pairwise import cosine_similarity\n",
    "from sklearn.metrics import accuracy_score"
   ]
  },
  {
   "cell_type": "code",
   "execution_count": 96,
   "outputs": [
    {
     "data": {
      "text/plain": "                                          Title                xkcd  \\\n0  https://www.explainxkcd.com/wiki/index.php/1  https://xkcd.com/1   \n1  https://www.explainxkcd.com/wiki/index.php/2  https://xkcd.com/2   \n2  https://www.explainxkcd.com/wiki/index.php/3  https://xkcd.com/3   \n3  https://www.explainxkcd.com/wiki/index.php/4  https://xkcd.com/4   \n4  https://www.explainxkcd.com/wiki/index.php/5  https://xkcd.com/5   \n\n                                               Image        Date  \\\n0  https://www.explainxkcd.com/wiki/index.php/Fil...  2005-09-30   \n1  https://www.explainxkcd.com/wiki/index.php/Fil...  2005-09-30   \n2  https://www.explainxkcd.com/wiki/index.php/Fil...  2005-09-30   \n3  https://www.explainxkcd.com/wiki/index.php/Fil...  2005-09-30   \n4  https://www.explainxkcd.com/wiki/index.php/Fil...         NaN   \n\n              TitleText                                        Explanation  \\\n0       Barrel - Part 1  The comic shows a young boy floating in a barr...   \n1  Petit Trees (sketch)  This comic does not present a particular point...   \n2       Island (sketch)  This comic does not present a particular point...   \n3    Landscape (sketch)  This comic does not present a particular point...   \n4           Blown apart  This comic is a mathematical and technical jok...   \n\n                                          Transcript  \n0  [A boy sits in a barrel which is floating in a...  \n1  [Two trees are growing on opposite sides of a ...  \n2                     [A color sketch of an island.]  \n3  [A sketch of a landscape with sun on the horiz...  \n4  [A black number 70 sees a red package and a li...  ",
      "text/html": "<div>\n<style scoped>\n    .dataframe tbody tr th:only-of-type {\n        vertical-align: middle;\n    }\n\n    .dataframe tbody tr th {\n        vertical-align: top;\n    }\n\n    .dataframe thead th {\n        text-align: right;\n    }\n</style>\n<table border=\"1\" class=\"dataframe\">\n  <thead>\n    <tr style=\"text-align: right;\">\n      <th></th>\n      <th>Title</th>\n      <th>xkcd</th>\n      <th>Image</th>\n      <th>Date</th>\n      <th>TitleText</th>\n      <th>Explanation</th>\n      <th>Transcript</th>\n    </tr>\n  </thead>\n  <tbody>\n    <tr>\n      <th>0</th>\n      <td>https://www.explainxkcd.com/wiki/index.php/1</td>\n      <td>https://xkcd.com/1</td>\n      <td>https://www.explainxkcd.com/wiki/index.php/Fil...</td>\n      <td>2005-09-30</td>\n      <td>Barrel - Part 1</td>\n      <td>The comic shows a young boy floating in a barr...</td>\n      <td>[A boy sits in a barrel which is floating in a...</td>\n    </tr>\n    <tr>\n      <th>1</th>\n      <td>https://www.explainxkcd.com/wiki/index.php/2</td>\n      <td>https://xkcd.com/2</td>\n      <td>https://www.explainxkcd.com/wiki/index.php/Fil...</td>\n      <td>2005-09-30</td>\n      <td>Petit Trees (sketch)</td>\n      <td>This comic does not present a particular point...</td>\n      <td>[Two trees are growing on opposite sides of a ...</td>\n    </tr>\n    <tr>\n      <th>2</th>\n      <td>https://www.explainxkcd.com/wiki/index.php/3</td>\n      <td>https://xkcd.com/3</td>\n      <td>https://www.explainxkcd.com/wiki/index.php/Fil...</td>\n      <td>2005-09-30</td>\n      <td>Island (sketch)</td>\n      <td>This comic does not present a particular point...</td>\n      <td>[A color sketch of an island.]</td>\n    </tr>\n    <tr>\n      <th>3</th>\n      <td>https://www.explainxkcd.com/wiki/index.php/4</td>\n      <td>https://xkcd.com/4</td>\n      <td>https://www.explainxkcd.com/wiki/index.php/Fil...</td>\n      <td>2005-09-30</td>\n      <td>Landscape (sketch)</td>\n      <td>This comic does not present a particular point...</td>\n      <td>[A sketch of a landscape with sun on the horiz...</td>\n    </tr>\n    <tr>\n      <th>4</th>\n      <td>https://www.explainxkcd.com/wiki/index.php/5</td>\n      <td>https://xkcd.com/5</td>\n      <td>https://www.explainxkcd.com/wiki/index.php/Fil...</td>\n      <td>NaN</td>\n      <td>Blown apart</td>\n      <td>This comic is a mathematical and technical jok...</td>\n      <td>[A black number 70 sees a red package and a li...</td>\n    </tr>\n  </tbody>\n</table>\n</div>"
     },
     "execution_count": 96,
     "metadata": {},
     "output_type": "execute_result"
    }
   ],
   "source": [
    "# Process explain xkcd data\n",
    "links_df = pd.read_csv(\"./data/xkcd/links_df.csv\") # .set_index(\"Title\")\n",
    "# There is a bug in the data collection which is caused by this surprise:\n",
    "# https://www.explainxkcd.com/wiki/index.php/Disappearing_Sunday_Update\n",
    "# its a comic with the same id which he speculates will break automated system. Sure\n",
    "# broke mine!\n",
    "links_df = links_df[links_df[\"TitleText\"] != \"Disappearing Sunday Update\"].set_index(\"Title\")\n",
    "pages_df = pd.read_csv(\"./data/xkcd/pages_df.csv\") # .set_index(\"Title\")\n",
    "pages_df = pages_df.drop_duplicates()\n",
    "xkcd_df = pd.merge(links_df, pages_df, how='left', on=\"Title\", validate=\"one_to_one\")\n",
    "\n",
    "xkcd_df.head()"
   ],
   "metadata": {
    "collapsed": false,
    "pycharm": {
     "name": "#%%\n"
    }
   }
  },
  {
   "cell_type": "code",
   "execution_count": 168,
   "outputs": [
    {
     "data": {
      "text/plain": "                                                body        author score  \\\n0  Or maybe it's because we're so fucking tired o...  schizobullet     7   \n1  Obligatory Snopes comic.\\r\\n\\r\\nhttp://xkcd.co...          paro    17   \n2  Somehow I think [this might apply](http://www....         wacky     1   \n3  uh... http://xkcd.com/207/\\r\\n\\r\\nyep, that's ...      bgstratt     4   \n4  Time to ruin the joke:\\r\\n\\r\\nhttp://xkcd.com/...       craigus     1   \n\n                                           permalink  \\\n0  http://reddit.com/r/reddit.com/comments/5zioz/...   \n1  http://reddit.com/r/reddit.com/comments/2qnru/...   \n2  http://reddit.com/r/reddit.com/comments/5z3ab/...   \n3  http://reddit.com/r/reddit.com/comments/2grzt/...   \n4  http://reddit.com/r/programming/comments/2hmdw...   \n\n                       xkcd  \\\n0       http://xkcd.com/16/   \n1      http://xkcd.com/250/   \n2  http://www.xkcd.com/322/   \n3      http://xkcd.com/207/   \n4      http://xkcd.com/303/   \n\n                                         parent_body parent_author  \\\n0  Youngsters didn't see Python's Holy Grail... h...     multubunu   \n1  Emphasis on the unbelievable. \\r\\n\\r\\nNo autho...    reddit_doe   \n2  This is not a conversation I expected to see o...    LoveGoblin   \n3  http://xkcd.com/about/\\r\\n\\r\\nits the third qu...       afedele   \n4  Have you tried balancing on an office chair wh...      kmactane   \n\n  parent_score                                   parent_permalink  \n0           10  http://reddit.com/r/reddit.com/comments/5zioz/...  \n1           52  http://reddit.com/r/reddit.com/comments/2qnru/...  \n2            1  http://reddit.com/r/reddit.com/comments/5z3ab/...  \n3            6  http://reddit.com/r/reddit.com/comments/2grzt/...  \n4           20  http://reddit.com/r/programming/comments/2hmdw...  ",
      "text/html": "<div>\n<style scoped>\n    .dataframe tbody tr th:only-of-type {\n        vertical-align: middle;\n    }\n\n    .dataframe tbody tr th {\n        vertical-align: top;\n    }\n\n    .dataframe thead th {\n        text-align: right;\n    }\n</style>\n<table border=\"1\" class=\"dataframe\">\n  <thead>\n    <tr style=\"text-align: right;\">\n      <th></th>\n      <th>body</th>\n      <th>author</th>\n      <th>score</th>\n      <th>permalink</th>\n      <th>xkcd</th>\n      <th>parent_body</th>\n      <th>parent_author</th>\n      <th>parent_score</th>\n      <th>parent_permalink</th>\n    </tr>\n  </thead>\n  <tbody>\n    <tr>\n      <th>0</th>\n      <td>Or maybe it's because we're so fucking tired o...</td>\n      <td>schizobullet</td>\n      <td>7</td>\n      <td>http://reddit.com/r/reddit.com/comments/5zioz/...</td>\n      <td>http://xkcd.com/16/</td>\n      <td>Youngsters didn't see Python's Holy Grail... h...</td>\n      <td>multubunu</td>\n      <td>10</td>\n      <td>http://reddit.com/r/reddit.com/comments/5zioz/...</td>\n    </tr>\n    <tr>\n      <th>1</th>\n      <td>Obligatory Snopes comic.\\r\\n\\r\\nhttp://xkcd.co...</td>\n      <td>paro</td>\n      <td>17</td>\n      <td>http://reddit.com/r/reddit.com/comments/2qnru/...</td>\n      <td>http://xkcd.com/250/</td>\n      <td>Emphasis on the unbelievable. \\r\\n\\r\\nNo autho...</td>\n      <td>reddit_doe</td>\n      <td>52</td>\n      <td>http://reddit.com/r/reddit.com/comments/2qnru/...</td>\n    </tr>\n    <tr>\n      <th>2</th>\n      <td>Somehow I think [this might apply](http://www....</td>\n      <td>wacky</td>\n      <td>1</td>\n      <td>http://reddit.com/r/reddit.com/comments/5z3ab/...</td>\n      <td>http://www.xkcd.com/322/</td>\n      <td>This is not a conversation I expected to see o...</td>\n      <td>LoveGoblin</td>\n      <td>1</td>\n      <td>http://reddit.com/r/reddit.com/comments/5z3ab/...</td>\n    </tr>\n    <tr>\n      <th>3</th>\n      <td>uh... http://xkcd.com/207/\\r\\n\\r\\nyep, that's ...</td>\n      <td>bgstratt</td>\n      <td>4</td>\n      <td>http://reddit.com/r/reddit.com/comments/2grzt/...</td>\n      <td>http://xkcd.com/207/</td>\n      <td>http://xkcd.com/about/\\r\\n\\r\\nits the third qu...</td>\n      <td>afedele</td>\n      <td>6</td>\n      <td>http://reddit.com/r/reddit.com/comments/2grzt/...</td>\n    </tr>\n    <tr>\n      <th>4</th>\n      <td>Time to ruin the joke:\\r\\n\\r\\nhttp://xkcd.com/...</td>\n      <td>craigus</td>\n      <td>1</td>\n      <td>http://reddit.com/r/programming/comments/2hmdw...</td>\n      <td>http://xkcd.com/303/</td>\n      <td>Have you tried balancing on an office chair wh...</td>\n      <td>kmactane</td>\n      <td>20</td>\n      <td>http://reddit.com/r/programming/comments/2hmdw...</td>\n    </tr>\n  </tbody>\n</table>\n</div>"
     },
     "execution_count": 168,
     "metadata": {},
     "output_type": "execute_result"
    }
   ],
   "source": [
    "# Process reddit data\n",
    "file_names =  [\n",
    "    *list(map(str, range(2007, 2015))),\n",
    "    *[f\"{year}_{month:02d}\" for year in range(2015, 2020) for month in range(1, 13)]\n",
    "]\n",
    "reddit_dfs = [\n",
    "    pd.read_csv(f\"./data/reddit/{file_name}.csv\")\n",
    "    for file_name in file_names\n",
    "]\n",
    "reddit_df = pd.concat(reddit_dfs, ignore_index=True)\n",
    "reddit_df.head()"
   ],
   "metadata": {
    "collapsed": false,
    "pycharm": {
     "name": "#%%\n"
    }
   }
  },
  {
   "cell_type": "code",
   "execution_count": 169,
   "outputs": [],
   "source": [
    "# Clean up reddit_df\n",
    "CURR_MAX_COMIC = 2400\n",
    "# remove null rows\n",
    "reddit_df = reddit_df[~(reddit_df[\"xkcd\"].isnull() | reddit_df[\"parent_body\"].isnull())]\n",
    "# remove malformed row\n",
    "reddit_df = reddit_df.drop(index=52737)\n",
    "# Clean up multiple versions to singular version\n",
    "reddit_df[\"xkcd\"] = reddit_df[\"xkcd\"].apply(\n",
    "    lambda url: \"https://xkcd.com/\" + URL(url).path.replace(\"/\", \"\")\n",
    ")\n",
    "# Drop invalid comic numbers\n",
    "mask = reddit_df[\"xkcd\"].apply(lambda url: int(URL(url).path[1:]) < CURR_MAX_COMIC, convert_dtype=False).values.astype(bool)\n",
    "reddit_df = reddit_df[mask]\n",
    "reddit_df.reset_index(drop=True, inplace=True)"
   ],
   "metadata": {
    "collapsed": false,
    "pycharm": {
     "name": "#%%\n"
    }
   }
  },
  {
   "cell_type": "code",
   "execution_count": 170,
   "outputs": [],
   "source": [
    "# Some quick maths\n",
    "reddit_df[\"xkcd\"].value_counts().nlargest(15)\n",
    "\n",
    "tfidf = TfidfVectorizer(strip_accents='ascii', stop_words='english', ngram_range=(1, 6), min_df=0.03)\n",
    "exp_vec = tfidf.fit_transform(xkcd_df['Explanation'])\n",
    "reddit_vec = tfidf.transform(reddit_df['parent_body'])"
   ],
   "metadata": {
    "collapsed": false,
    "pycharm": {
     "name": "#%%\n"
    }
   }
  },
  {
   "cell_type": "code",
   "execution_count": 171,
   "outputs": [],
   "source": [
    "sim = cosine_similarity(reddit_vec, exp_vec)"
   ],
   "metadata": {
    "collapsed": false,
    "pycharm": {
     "name": "#%%\n"
    }
   }
  },
  {
   "cell_type": "code",
   "execution_count": 175,
   "outputs": [
    {
     "name": "stdout",
     "output_type": "stream",
     "text": [
      "0.0003893049630000734\n",
      "0.001611467264877353\n"
     ]
    }
   ],
   "source": [
    "def accuracy_n(y, y_hat, n=1):\n",
    "    pass\n",
    "\n",
    "y = reddit_df[\"xkcd\"].apply(lambda url: int(URL(url).path[1:])).values.reshape((-1, 1))\n",
    "\n",
    "acc = accuracy_score(np.argmax(sim, 1), y)\n",
    "n = 5\n",
    "topn = np.argsort(sim, 1)[:, -n:]\n",
    "argmax_labels = y.ravel()\n",
    "topn_acc = np.mean(np.array([\n",
    "    1 if argmax_labels[k] in topn[k]\n",
    "    else 0\n",
    "    for k in range(len(topn))\n",
    "]))\n",
    "print(acc)\n",
    "print(topn_acc)\n"
   ],
   "metadata": {
    "collapsed": false,
    "pycharm": {
     "name": "#%%\n"
    }
   }
  },
  {
   "cell_type": "code",
   "execution_count": null,
   "outputs": [],
   "source": [],
   "metadata": {
    "collapsed": false,
    "pycharm": {
     "name": "#%%\n"
    }
   }
  }
 ],
 "metadata": {
  "kernelspec": {
   "display_name": "Python 3",
   "language": "python",
   "name": "python3"
  },
  "language_info": {
   "codemirror_mode": {
    "name": "ipython",
    "version": 2
   },
   "file_extension": ".py",
   "mimetype": "text/x-python",
   "name": "python",
   "nbconvert_exporter": "python",
   "pygments_lexer": "ipython2",
   "version": "2.7.6"
  }
 },
 "nbformat": 4,
 "nbformat_minor": 0
}